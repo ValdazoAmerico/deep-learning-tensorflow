{
  "nbformat": 4,
  "nbformat_minor": 0,
  "metadata": {
    "colab": {
      "name": "deep learning tensorflow.ipynb",
      "provenance": [],
      "collapsed_sections": [],
      "authorship_tag": "ABX9TyO3akguA3H/Cf1bI06C2heR",
      "include_colab_link": true
    },
    "kernelspec": {
      "name": "python3",
      "display_name": "Python 3"
    },
    "language_info": {
      "name": "python"
    }
  },
  "cells": [
    {
      "cell_type": "markdown",
      "metadata": {
        "id": "view-in-github",
        "colab_type": "text"
      },
      "source": [
        "<a href=\"https://colab.research.google.com/github/ValdazoAmerico/deep-learning-tensorflow/blob/main/deep_learning_tensorflow.ipynb\" target=\"_parent\"><img src=\"https://colab.research.google.com/assets/colab-badge.svg\" alt=\"Open In Colab\"/></a>"
      ]
    },
    {
      "cell_type": "code",
      "metadata": {
        "id": "PuGFNV2RzW_Q"
      },
      "source": [
        "#Import Libraries\n",
        "import numpy as np\n",
        "\n",
        "from sklearn.model_selection import train_test_split,cross_val_score\n",
        "from sklearn.preprocessing import LabelEncoder,OrdinalEncoder\n",
        "from sklearn.metrics import accuracy_score,classification_report,confusion_matrix,plot_confusion_matrix\n",
        "\n",
        "from sklearn.neural_network import MLPClassifier"
      ],
      "execution_count": 1,
      "outputs": []
    },
    {
      "cell_type": "code",
      "metadata": {
        "colab": {
          "base_uri": "https://localhost:8080/"
        },
        "id": "BI5YFA0zz35R",
        "outputId": "94cfc74a-81a4-435e-aee3-54d3061cf7bb"
      },
      "source": [
        "#Install tensorflow & tensorboard\n",
        "!pip install tensorflow\n",
        "!pip install tensorboard"
      ],
      "execution_count": 2,
      "outputs": [
        {
          "output_type": "stream",
          "name": "stdout",
          "text": [
            "Requirement already satisfied: tensorflow in /usr/local/lib/python3.7/dist-packages (2.6.0)\n",
            "Requirement already satisfied: astunparse~=1.6.3 in /usr/local/lib/python3.7/dist-packages (from tensorflow) (1.6.3)\n",
            "Requirement already satisfied: termcolor~=1.1.0 in /usr/local/lib/python3.7/dist-packages (from tensorflow) (1.1.0)\n",
            "Requirement already satisfied: clang~=5.0 in /usr/local/lib/python3.7/dist-packages (from tensorflow) (5.0)\n",
            "Requirement already satisfied: wrapt~=1.12.1 in /usr/local/lib/python3.7/dist-packages (from tensorflow) (1.12.1)\n",
            "Requirement already satisfied: keras~=2.6 in /usr/local/lib/python3.7/dist-packages (from tensorflow) (2.6.0)\n",
            "Requirement already satisfied: gast==0.4.0 in /usr/local/lib/python3.7/dist-packages (from tensorflow) (0.4.0)\n",
            "Requirement already satisfied: wheel~=0.35 in /usr/local/lib/python3.7/dist-packages (from tensorflow) (0.37.0)\n",
            "Requirement already satisfied: keras-preprocessing~=1.1.2 in /usr/local/lib/python3.7/dist-packages (from tensorflow) (1.1.2)\n",
            "Requirement already satisfied: flatbuffers~=1.12.0 in /usr/local/lib/python3.7/dist-packages (from tensorflow) (1.12)\n",
            "Requirement already satisfied: tensorflow-estimator~=2.6 in /usr/local/lib/python3.7/dist-packages (from tensorflow) (2.6.0)\n",
            "Requirement already satisfied: six~=1.15.0 in /usr/local/lib/python3.7/dist-packages (from tensorflow) (1.15.0)\n",
            "Requirement already satisfied: h5py~=3.1.0 in /usr/local/lib/python3.7/dist-packages (from tensorflow) (3.1.0)\n",
            "Requirement already satisfied: tensorboard~=2.6 in /usr/local/lib/python3.7/dist-packages (from tensorflow) (2.6.0)\n",
            "Requirement already satisfied: opt-einsum~=3.3.0 in /usr/local/lib/python3.7/dist-packages (from tensorflow) (3.3.0)\n",
            "Requirement already satisfied: google-pasta~=0.2 in /usr/local/lib/python3.7/dist-packages (from tensorflow) (0.2.0)\n",
            "Requirement already satisfied: typing-extensions~=3.7.4 in /usr/local/lib/python3.7/dist-packages (from tensorflow) (3.7.4.3)\n",
            "Requirement already satisfied: numpy~=1.19.2 in /usr/local/lib/python3.7/dist-packages (from tensorflow) (1.19.5)\n",
            "Requirement already satisfied: protobuf>=3.9.2 in /usr/local/lib/python3.7/dist-packages (from tensorflow) (3.17.3)\n",
            "Requirement already satisfied: absl-py~=0.10 in /usr/local/lib/python3.7/dist-packages (from tensorflow) (0.12.0)\n",
            "Requirement already satisfied: grpcio<2.0,>=1.37.0 in /usr/local/lib/python3.7/dist-packages (from tensorflow) (1.40.0)\n",
            "Requirement already satisfied: cached-property in /usr/local/lib/python3.7/dist-packages (from h5py~=3.1.0->tensorflow) (1.5.2)\n",
            "Requirement already satisfied: werkzeug>=0.11.15 in /usr/local/lib/python3.7/dist-packages (from tensorboard~=2.6->tensorflow) (1.0.1)\n",
            "Requirement already satisfied: google-auth<2,>=1.6.3 in /usr/local/lib/python3.7/dist-packages (from tensorboard~=2.6->tensorflow) (1.35.0)\n",
            "Requirement already satisfied: tensorboard-data-server<0.7.0,>=0.6.0 in /usr/local/lib/python3.7/dist-packages (from tensorboard~=2.6->tensorflow) (0.6.1)\n",
            "Requirement already satisfied: requests<3,>=2.21.0 in /usr/local/lib/python3.7/dist-packages (from tensorboard~=2.6->tensorflow) (2.23.0)\n",
            "Requirement already satisfied: tensorboard-plugin-wit>=1.6.0 in /usr/local/lib/python3.7/dist-packages (from tensorboard~=2.6->tensorflow) (1.8.0)\n",
            "Requirement already satisfied: setuptools>=41.0.0 in /usr/local/lib/python3.7/dist-packages (from tensorboard~=2.6->tensorflow) (57.4.0)\n",
            "Requirement already satisfied: markdown>=2.6.8 in /usr/local/lib/python3.7/dist-packages (from tensorboard~=2.6->tensorflow) (3.3.4)\n",
            "Requirement already satisfied: google-auth-oauthlib<0.5,>=0.4.1 in /usr/local/lib/python3.7/dist-packages (from tensorboard~=2.6->tensorflow) (0.4.6)\n",
            "Requirement already satisfied: cachetools<5.0,>=2.0.0 in /usr/local/lib/python3.7/dist-packages (from google-auth<2,>=1.6.3->tensorboard~=2.6->tensorflow) (4.2.2)\n",
            "Requirement already satisfied: rsa<5,>=3.1.4 in /usr/local/lib/python3.7/dist-packages (from google-auth<2,>=1.6.3->tensorboard~=2.6->tensorflow) (4.7.2)\n",
            "Requirement already satisfied: pyasn1-modules>=0.2.1 in /usr/local/lib/python3.7/dist-packages (from google-auth<2,>=1.6.3->tensorboard~=2.6->tensorflow) (0.2.8)\n",
            "Requirement already satisfied: requests-oauthlib>=0.7.0 in /usr/local/lib/python3.7/dist-packages (from google-auth-oauthlib<0.5,>=0.4.1->tensorboard~=2.6->tensorflow) (1.3.0)\n",
            "Requirement already satisfied: importlib-metadata in /usr/local/lib/python3.7/dist-packages (from markdown>=2.6.8->tensorboard~=2.6->tensorflow) (4.8.1)\n",
            "Requirement already satisfied: pyasn1<0.5.0,>=0.4.6 in /usr/local/lib/python3.7/dist-packages (from pyasn1-modules>=0.2.1->google-auth<2,>=1.6.3->tensorboard~=2.6->tensorflow) (0.4.8)\n",
            "Requirement already satisfied: chardet<4,>=3.0.2 in /usr/local/lib/python3.7/dist-packages (from requests<3,>=2.21.0->tensorboard~=2.6->tensorflow) (3.0.4)\n",
            "Requirement already satisfied: idna<3,>=2.5 in /usr/local/lib/python3.7/dist-packages (from requests<3,>=2.21.0->tensorboard~=2.6->tensorflow) (2.10)\n",
            "Requirement already satisfied: urllib3!=1.25.0,!=1.25.1,<1.26,>=1.21.1 in /usr/local/lib/python3.7/dist-packages (from requests<3,>=2.21.0->tensorboard~=2.6->tensorflow) (1.24.3)\n",
            "Requirement already satisfied: certifi>=2017.4.17 in /usr/local/lib/python3.7/dist-packages (from requests<3,>=2.21.0->tensorboard~=2.6->tensorflow) (2021.5.30)\n",
            "Requirement already satisfied: oauthlib>=3.0.0 in /usr/local/lib/python3.7/dist-packages (from requests-oauthlib>=0.7.0->google-auth-oauthlib<0.5,>=0.4.1->tensorboard~=2.6->tensorflow) (3.1.1)\n",
            "Requirement already satisfied: zipp>=0.5 in /usr/local/lib/python3.7/dist-packages (from importlib-metadata->markdown>=2.6.8->tensorboard~=2.6->tensorflow) (3.5.0)\n",
            "Requirement already satisfied: tensorboard in /usr/local/lib/python3.7/dist-packages (2.6.0)\n",
            "Requirement already satisfied: google-auth<2,>=1.6.3 in /usr/local/lib/python3.7/dist-packages (from tensorboard) (1.35.0)\n",
            "Requirement already satisfied: absl-py>=0.4 in /usr/local/lib/python3.7/dist-packages (from tensorboard) (0.12.0)\n",
            "Requirement already satisfied: requests<3,>=2.21.0 in /usr/local/lib/python3.7/dist-packages (from tensorboard) (2.23.0)\n",
            "Requirement already satisfied: google-auth-oauthlib<0.5,>=0.4.1 in /usr/local/lib/python3.7/dist-packages (from tensorboard) (0.4.6)\n",
            "Requirement already satisfied: protobuf>=3.6.0 in /usr/local/lib/python3.7/dist-packages (from tensorboard) (3.17.3)\n",
            "Requirement already satisfied: wheel>=0.26 in /usr/local/lib/python3.7/dist-packages (from tensorboard) (0.37.0)\n",
            "Requirement already satisfied: grpcio>=1.24.3 in /usr/local/lib/python3.7/dist-packages (from tensorboard) (1.40.0)\n",
            "Requirement already satisfied: setuptools>=41.0.0 in /usr/local/lib/python3.7/dist-packages (from tensorboard) (57.4.0)\n",
            "Requirement already satisfied: tensorboard-plugin-wit>=1.6.0 in /usr/local/lib/python3.7/dist-packages (from tensorboard) (1.8.0)\n",
            "Requirement already satisfied: tensorboard-data-server<0.7.0,>=0.6.0 in /usr/local/lib/python3.7/dist-packages (from tensorboard) (0.6.1)\n",
            "Requirement already satisfied: numpy>=1.12.0 in /usr/local/lib/python3.7/dist-packages (from tensorboard) (1.19.5)\n",
            "Requirement already satisfied: werkzeug>=0.11.15 in /usr/local/lib/python3.7/dist-packages (from tensorboard) (1.0.1)\n",
            "Requirement already satisfied: markdown>=2.6.8 in /usr/local/lib/python3.7/dist-packages (from tensorboard) (3.3.4)\n",
            "Requirement already satisfied: six in /usr/local/lib/python3.7/dist-packages (from absl-py>=0.4->tensorboard) (1.15.0)\n",
            "Requirement already satisfied: rsa<5,>=3.1.4 in /usr/local/lib/python3.7/dist-packages (from google-auth<2,>=1.6.3->tensorboard) (4.7.2)\n",
            "Requirement already satisfied: cachetools<5.0,>=2.0.0 in /usr/local/lib/python3.7/dist-packages (from google-auth<2,>=1.6.3->tensorboard) (4.2.2)\n",
            "Requirement already satisfied: pyasn1-modules>=0.2.1 in /usr/local/lib/python3.7/dist-packages (from google-auth<2,>=1.6.3->tensorboard) (0.2.8)\n",
            "Requirement already satisfied: requests-oauthlib>=0.7.0 in /usr/local/lib/python3.7/dist-packages (from google-auth-oauthlib<0.5,>=0.4.1->tensorboard) (1.3.0)\n",
            "Requirement already satisfied: importlib-metadata in /usr/local/lib/python3.7/dist-packages (from markdown>=2.6.8->tensorboard) (4.8.1)\n",
            "Requirement already satisfied: pyasn1<0.5.0,>=0.4.6 in /usr/local/lib/python3.7/dist-packages (from pyasn1-modules>=0.2.1->google-auth<2,>=1.6.3->tensorboard) (0.4.8)\n",
            "Requirement already satisfied: certifi>=2017.4.17 in /usr/local/lib/python3.7/dist-packages (from requests<3,>=2.21.0->tensorboard) (2021.5.30)\n",
            "Requirement already satisfied: idna<3,>=2.5 in /usr/local/lib/python3.7/dist-packages (from requests<3,>=2.21.0->tensorboard) (2.10)\n",
            "Requirement already satisfied: chardet<4,>=3.0.2 in /usr/local/lib/python3.7/dist-packages (from requests<3,>=2.21.0->tensorboard) (3.0.4)\n",
            "Requirement already satisfied: urllib3!=1.25.0,!=1.25.1,<1.26,>=1.21.1 in /usr/local/lib/python3.7/dist-packages (from requests<3,>=2.21.0->tensorboard) (1.24.3)\n",
            "Requirement already satisfied: oauthlib>=3.0.0 in /usr/local/lib/python3.7/dist-packages (from requests-oauthlib>=0.7.0->google-auth-oauthlib<0.5,>=0.4.1->tensorboard) (3.1.1)\n",
            "Requirement already satisfied: typing-extensions>=3.6.4 in /usr/local/lib/python3.7/dist-packages (from importlib-metadata->markdown>=2.6.8->tensorboard) (3.7.4.3)\n",
            "Requirement already satisfied: zipp>=0.5 in /usr/local/lib/python3.7/dist-packages (from importlib-metadata->markdown>=2.6.8->tensorboard) (3.5.0)\n"
          ]
        }
      ]
    },
    {
      "cell_type": "code",
      "metadata": {
        "colab": {
          "base_uri": "https://localhost:8080/"
        },
        "id": "7FwzuQYlz-nm",
        "outputId": "027c8356-f823-412c-f9eb-86ffcbcf87f6"
      },
      "source": [
        "#Check version\n",
        "import tensorflow as tf\n",
        "print(tf.__version__)"
      ],
      "execution_count": 3,
      "outputs": [
        {
          "output_type": "stream",
          "name": "stdout",
          "text": [
            "2.6.0\n"
          ]
        }
      ]
    },
    {
      "cell_type": "code",
      "metadata": {
        "id": "FfEQIFN-waYd"
      },
      "source": [
        "#Load dataset\n",
        "import pandas as pd\n",
        "df = pd.read_csv('bank-full.csv',sep=\";\")"
      ],
      "execution_count": 5,
      "outputs": []
    },
    {
      "cell_type": "code",
      "metadata": {
        "colab": {
          "base_uri": "https://localhost:8080/",
          "height": 224
        },
        "id": "E0n5zk0zwoav",
        "outputId": "8fcfc27c-f4af-4dcf-a317-a66d84fb7ab8"
      },
      "source": [
        "df.head()"
      ],
      "execution_count": 6,
      "outputs": [
        {
          "output_type": "execute_result",
          "data": {
            "text/html": [
              "<div>\n",
              "<style scoped>\n",
              "    .dataframe tbody tr th:only-of-type {\n",
              "        vertical-align: middle;\n",
              "    }\n",
              "\n",
              "    .dataframe tbody tr th {\n",
              "        vertical-align: top;\n",
              "    }\n",
              "\n",
              "    .dataframe thead th {\n",
              "        text-align: right;\n",
              "    }\n",
              "</style>\n",
              "<table border=\"1\" class=\"dataframe\">\n",
              "  <thead>\n",
              "    <tr style=\"text-align: right;\">\n",
              "      <th></th>\n",
              "      <th>age</th>\n",
              "      <th>job</th>\n",
              "      <th>marital</th>\n",
              "      <th>education</th>\n",
              "      <th>default</th>\n",
              "      <th>balance</th>\n",
              "      <th>housing</th>\n",
              "      <th>loan</th>\n",
              "      <th>contact</th>\n",
              "      <th>day</th>\n",
              "      <th>month</th>\n",
              "      <th>duration</th>\n",
              "      <th>campaign</th>\n",
              "      <th>pdays</th>\n",
              "      <th>previous</th>\n",
              "      <th>poutcome</th>\n",
              "      <th>y</th>\n",
              "    </tr>\n",
              "  </thead>\n",
              "  <tbody>\n",
              "    <tr>\n",
              "      <th>0</th>\n",
              "      <td>58</td>\n",
              "      <td>management</td>\n",
              "      <td>married</td>\n",
              "      <td>tertiary</td>\n",
              "      <td>no</td>\n",
              "      <td>2143</td>\n",
              "      <td>yes</td>\n",
              "      <td>no</td>\n",
              "      <td>unknown</td>\n",
              "      <td>5</td>\n",
              "      <td>may</td>\n",
              "      <td>261</td>\n",
              "      <td>1</td>\n",
              "      <td>-1</td>\n",
              "      <td>0</td>\n",
              "      <td>unknown</td>\n",
              "      <td>no</td>\n",
              "    </tr>\n",
              "    <tr>\n",
              "      <th>1</th>\n",
              "      <td>44</td>\n",
              "      <td>technician</td>\n",
              "      <td>single</td>\n",
              "      <td>secondary</td>\n",
              "      <td>no</td>\n",
              "      <td>29</td>\n",
              "      <td>yes</td>\n",
              "      <td>no</td>\n",
              "      <td>unknown</td>\n",
              "      <td>5</td>\n",
              "      <td>may</td>\n",
              "      <td>151</td>\n",
              "      <td>1</td>\n",
              "      <td>-1</td>\n",
              "      <td>0</td>\n",
              "      <td>unknown</td>\n",
              "      <td>no</td>\n",
              "    </tr>\n",
              "    <tr>\n",
              "      <th>2</th>\n",
              "      <td>33</td>\n",
              "      <td>entrepreneur</td>\n",
              "      <td>married</td>\n",
              "      <td>secondary</td>\n",
              "      <td>no</td>\n",
              "      <td>2</td>\n",
              "      <td>yes</td>\n",
              "      <td>yes</td>\n",
              "      <td>unknown</td>\n",
              "      <td>5</td>\n",
              "      <td>may</td>\n",
              "      <td>76</td>\n",
              "      <td>1</td>\n",
              "      <td>-1</td>\n",
              "      <td>0</td>\n",
              "      <td>unknown</td>\n",
              "      <td>no</td>\n",
              "    </tr>\n",
              "    <tr>\n",
              "      <th>3</th>\n",
              "      <td>47</td>\n",
              "      <td>blue-collar</td>\n",
              "      <td>married</td>\n",
              "      <td>unknown</td>\n",
              "      <td>no</td>\n",
              "      <td>1506</td>\n",
              "      <td>yes</td>\n",
              "      <td>no</td>\n",
              "      <td>unknown</td>\n",
              "      <td>5</td>\n",
              "      <td>may</td>\n",
              "      <td>92</td>\n",
              "      <td>1</td>\n",
              "      <td>-1</td>\n",
              "      <td>0</td>\n",
              "      <td>unknown</td>\n",
              "      <td>no</td>\n",
              "    </tr>\n",
              "    <tr>\n",
              "      <th>4</th>\n",
              "      <td>33</td>\n",
              "      <td>unknown</td>\n",
              "      <td>single</td>\n",
              "      <td>unknown</td>\n",
              "      <td>no</td>\n",
              "      <td>1</td>\n",
              "      <td>no</td>\n",
              "      <td>no</td>\n",
              "      <td>unknown</td>\n",
              "      <td>5</td>\n",
              "      <td>may</td>\n",
              "      <td>198</td>\n",
              "      <td>1</td>\n",
              "      <td>-1</td>\n",
              "      <td>0</td>\n",
              "      <td>unknown</td>\n",
              "      <td>no</td>\n",
              "    </tr>\n",
              "  </tbody>\n",
              "</table>\n",
              "</div>"
            ],
            "text/plain": [
              "   age           job  marital  education  ... pdays  previous poutcome   y\n",
              "0   58    management  married   tertiary  ...    -1         0  unknown  no\n",
              "1   44    technician   single  secondary  ...    -1         0  unknown  no\n",
              "2   33  entrepreneur  married  secondary  ...    -1         0  unknown  no\n",
              "3   47   blue-collar  married    unknown  ...    -1         0  unknown  no\n",
              "4   33       unknown   single    unknown  ...    -1         0  unknown  no\n",
              "\n",
              "[5 rows x 17 columns]"
            ]
          },
          "metadata": {},
          "execution_count": 6
        }
      ]
    },
    {
      "cell_type": "code",
      "metadata": {
        "id": "hVd_0nJ7xlgI"
      },
      "source": [
        "#Feature Engineering\n",
        "#Get categorical\n",
        "cat_columns = df.select_dtypes(include=['object','category']).columns.tolist()"
      ],
      "execution_count": 7,
      "outputs": []
    },
    {
      "cell_type": "code",
      "metadata": {
        "colab": {
          "base_uri": "https://localhost:8080/"
        },
        "id": "mP3OaP1Eyj10",
        "outputId": "5ba4253e-946b-4d69-c598-47c54889fd9f"
      },
      "source": [
        "cat_columns"
      ],
      "execution_count": 8,
      "outputs": [
        {
          "output_type": "execute_result",
          "data": {
            "text/plain": [
              "['job',\n",
              " 'marital',\n",
              " 'education',\n",
              " 'default',\n",
              " 'housing',\n",
              " 'loan',\n",
              " 'contact',\n",
              " 'month',\n",
              " 'poutcome',\n",
              " 'y']"
            ]
          },
          "metadata": {},
          "execution_count": 8
        }
      ]
    },
    {
      "cell_type": "code",
      "metadata": {
        "id": "SiyBGxDMylCj"
      },
      "source": [
        "cat_columns = ['job',\n",
        " 'marital',\n",
        " 'education',\n",
        " 'default',\n",
        " 'housing',\n",
        " 'loan',\n",
        " 'contact',\n",
        " 'month',\n",
        " 'poutcome',]"
      ],
      "execution_count": 9,
      "outputs": []
    },
    {
      "cell_type": "code",
      "metadata": {
        "id": "nsBlWXJoyvot"
      },
      "source": [
        "#Numerical columns\n",
        "num_columns = df.select_dtypes(exclude=['object','category']).columns.tolist()"
      ],
      "execution_count": 10,
      "outputs": []
    },
    {
      "cell_type": "code",
      "metadata": {
        "colab": {
          "base_uri": "https://localhost:8080/"
        },
        "id": "JH4w_m8Vy0YK",
        "outputId": "d249d117-4a7e-4479-f893-4ff94f757e0c"
      },
      "source": [
        "num_columns"
      ],
      "execution_count": 11,
      "outputs": [
        {
          "output_type": "execute_result",
          "data": {
            "text/plain": [
              "['age', 'balance', 'day', 'duration', 'campaign', 'pdays', 'previous']"
            ]
          },
          "metadata": {},
          "execution_count": 11
        }
      ]
    },
    {
      "cell_type": "code",
      "metadata": {
        "colab": {
          "base_uri": "https://localhost:8080/"
        },
        "id": "xX4pe3tsy07F",
        "outputId": "a5081fee-d8ba-4d42-fb87-831301d302e9"
      },
      "source": [
        "#Label encoding target\n",
        "df['y'].unique()\n",
        "df['y'] = df['y'].map({'no':0,'yes':1})"
      ],
      "execution_count": 12,
      "outputs": [
        {
          "output_type": "execute_result",
          "data": {
            "text/plain": [
              "array(['no', 'yes'], dtype=object)"
            ]
          },
          "metadata": {},
          "execution_count": 12
        }
      ]
    },
    {
      "cell_type": "code",
      "metadata": {
        "id": "nVnhNq88zH5N"
      },
      "source": [
        "#Feature Encoding : Categorical\n",
        "ord_enc = OrdinalEncoder()"
      ],
      "execution_count": 14,
      "outputs": []
    },
    {
      "cell_type": "code",
      "metadata": {
        "id": "sarb7OwczSB7"
      },
      "source": [
        "#Unencoded\n",
        "df2 = df.copy()"
      ],
      "execution_count": 15,
      "outputs": []
    },
    {
      "cell_type": "code",
      "metadata": {
        "id": "vAkH5EWm0JvO"
      },
      "source": [
        "df[cat_columns] = ord_enc.fit_transform(df[cat_columns])"
      ],
      "execution_count": 16,
      "outputs": []
    },
    {
      "cell_type": "code",
      "metadata": {
        "colab": {
          "base_uri": "https://localhost:8080/",
          "height": 224
        },
        "id": "RQJcud4z0L-0",
        "outputId": "54769282-3e21-40f2-fcd7-99c8553dfec4"
      },
      "source": [
        "df.head()"
      ],
      "execution_count": 17,
      "outputs": [
        {
          "output_type": "execute_result",
          "data": {
            "text/html": [
              "<div>\n",
              "<style scoped>\n",
              "    .dataframe tbody tr th:only-of-type {\n",
              "        vertical-align: middle;\n",
              "    }\n",
              "\n",
              "    .dataframe tbody tr th {\n",
              "        vertical-align: top;\n",
              "    }\n",
              "\n",
              "    .dataframe thead th {\n",
              "        text-align: right;\n",
              "    }\n",
              "</style>\n",
              "<table border=\"1\" class=\"dataframe\">\n",
              "  <thead>\n",
              "    <tr style=\"text-align: right;\">\n",
              "      <th></th>\n",
              "      <th>age</th>\n",
              "      <th>job</th>\n",
              "      <th>marital</th>\n",
              "      <th>education</th>\n",
              "      <th>default</th>\n",
              "      <th>balance</th>\n",
              "      <th>housing</th>\n",
              "      <th>loan</th>\n",
              "      <th>contact</th>\n",
              "      <th>day</th>\n",
              "      <th>month</th>\n",
              "      <th>duration</th>\n",
              "      <th>campaign</th>\n",
              "      <th>pdays</th>\n",
              "      <th>previous</th>\n",
              "      <th>poutcome</th>\n",
              "      <th>y</th>\n",
              "    </tr>\n",
              "  </thead>\n",
              "  <tbody>\n",
              "    <tr>\n",
              "      <th>0</th>\n",
              "      <td>58</td>\n",
              "      <td>4.0</td>\n",
              "      <td>1.0</td>\n",
              "      <td>2.0</td>\n",
              "      <td>0.0</td>\n",
              "      <td>2143</td>\n",
              "      <td>1.0</td>\n",
              "      <td>0.0</td>\n",
              "      <td>2.0</td>\n",
              "      <td>5</td>\n",
              "      <td>8.0</td>\n",
              "      <td>261</td>\n",
              "      <td>1</td>\n",
              "      <td>-1</td>\n",
              "      <td>0</td>\n",
              "      <td>3.0</td>\n",
              "      <td>0</td>\n",
              "    </tr>\n",
              "    <tr>\n",
              "      <th>1</th>\n",
              "      <td>44</td>\n",
              "      <td>9.0</td>\n",
              "      <td>2.0</td>\n",
              "      <td>1.0</td>\n",
              "      <td>0.0</td>\n",
              "      <td>29</td>\n",
              "      <td>1.0</td>\n",
              "      <td>0.0</td>\n",
              "      <td>2.0</td>\n",
              "      <td>5</td>\n",
              "      <td>8.0</td>\n",
              "      <td>151</td>\n",
              "      <td>1</td>\n",
              "      <td>-1</td>\n",
              "      <td>0</td>\n",
              "      <td>3.0</td>\n",
              "      <td>0</td>\n",
              "    </tr>\n",
              "    <tr>\n",
              "      <th>2</th>\n",
              "      <td>33</td>\n",
              "      <td>2.0</td>\n",
              "      <td>1.0</td>\n",
              "      <td>1.0</td>\n",
              "      <td>0.0</td>\n",
              "      <td>2</td>\n",
              "      <td>1.0</td>\n",
              "      <td>1.0</td>\n",
              "      <td>2.0</td>\n",
              "      <td>5</td>\n",
              "      <td>8.0</td>\n",
              "      <td>76</td>\n",
              "      <td>1</td>\n",
              "      <td>-1</td>\n",
              "      <td>0</td>\n",
              "      <td>3.0</td>\n",
              "      <td>0</td>\n",
              "    </tr>\n",
              "    <tr>\n",
              "      <th>3</th>\n",
              "      <td>47</td>\n",
              "      <td>1.0</td>\n",
              "      <td>1.0</td>\n",
              "      <td>3.0</td>\n",
              "      <td>0.0</td>\n",
              "      <td>1506</td>\n",
              "      <td>1.0</td>\n",
              "      <td>0.0</td>\n",
              "      <td>2.0</td>\n",
              "      <td>5</td>\n",
              "      <td>8.0</td>\n",
              "      <td>92</td>\n",
              "      <td>1</td>\n",
              "      <td>-1</td>\n",
              "      <td>0</td>\n",
              "      <td>3.0</td>\n",
              "      <td>0</td>\n",
              "    </tr>\n",
              "    <tr>\n",
              "      <th>4</th>\n",
              "      <td>33</td>\n",
              "      <td>11.0</td>\n",
              "      <td>2.0</td>\n",
              "      <td>3.0</td>\n",
              "      <td>0.0</td>\n",
              "      <td>1</td>\n",
              "      <td>0.0</td>\n",
              "      <td>0.0</td>\n",
              "      <td>2.0</td>\n",
              "      <td>5</td>\n",
              "      <td>8.0</td>\n",
              "      <td>198</td>\n",
              "      <td>1</td>\n",
              "      <td>-1</td>\n",
              "      <td>0</td>\n",
              "      <td>3.0</td>\n",
              "      <td>0</td>\n",
              "    </tr>\n",
              "  </tbody>\n",
              "</table>\n",
              "</div>"
            ],
            "text/plain": [
              "   age   job  marital  education  ...  pdays  previous  poutcome  y\n",
              "0   58   4.0      1.0        2.0  ...     -1         0       3.0  0\n",
              "1   44   9.0      2.0        1.0  ...     -1         0       3.0  0\n",
              "2   33   2.0      1.0        1.0  ...     -1         0       3.0  0\n",
              "3   47   1.0      1.0        3.0  ...     -1         0       3.0  0\n",
              "4   33  11.0      2.0        3.0  ...     -1         0       3.0  0\n",
              "\n",
              "[5 rows x 17 columns]"
            ]
          },
          "metadata": {},
          "execution_count": 17
        }
      ]
    },
    {
      "cell_type": "code",
      "metadata": {
        "colab": {
          "base_uri": "https://localhost:8080/"
        },
        "id": "87zG8m5j0VFF",
        "outputId": "cb5875fc-5e18-43f1-fdbf-f82d52fe8038"
      },
      "source": [
        "#Get categories\n",
        "ord_enc.categories_"
      ],
      "execution_count": 18,
      "outputs": [
        {
          "output_type": "execute_result",
          "data": {
            "text/plain": [
              "[array(['admin.', 'blue-collar', 'entrepreneur', 'housemaid', 'management',\n",
              "        'retired', 'self-employed', 'services', 'student', 'technician',\n",
              "        'unemployed', 'unknown'], dtype=object),\n",
              " array(['divorced', 'married', 'single'], dtype=object),\n",
              " array(['primary', 'secondary', 'tertiary', 'unknown'], dtype=object),\n",
              " array(['no', 'yes'], dtype=object),\n",
              " array(['no', 'yes'], dtype=object),\n",
              " array(['no', 'yes'], dtype=object),\n",
              " array(['cellular', 'telephone', 'unknown'], dtype=object),\n",
              " array(['apr', 'aug', 'dec', 'feb', 'jan', 'jul', 'jun', 'mar', 'may',\n",
              "        'nov', 'oct', 'sep'], dtype=object),\n",
              " array(['failure', 'other', 'success', 'unknown'], dtype=object)]"
            ]
          },
          "metadata": {},
          "execution_count": 18
        }
      ]
    },
    {
      "cell_type": "code",
      "metadata": {
        "id": "MX0Fp_c50bfQ"
      },
      "source": [
        "#Data Visualization\n",
        "import seaborn as sns\n",
        "import matplotlib.pyplot as plt"
      ],
      "execution_count": 19,
      "outputs": []
    },
    {
      "cell_type": "code",
      "metadata": {
        "colab": {
          "base_uri": "https://localhost:8080/"
        },
        "id": "WmZs1zRP0hhP",
        "outputId": "241548ae-5246-47e4-f848-a0a1093309e1"
      },
      "source": [
        "df['y'].value_counts()"
      ],
      "execution_count": 20,
      "outputs": [
        {
          "output_type": "execute_result",
          "data": {
            "text/plain": [
              "0    39922\n",
              "1     5289\n",
              "Name: y, dtype: int64"
            ]
          },
          "metadata": {},
          "execution_count": 20
        }
      ]
    },
    {
      "cell_type": "code",
      "metadata": {
        "colab": {
          "base_uri": "https://localhost:8080/",
          "height": 296
        },
        "id": "DEZgs_vB0lH-",
        "outputId": "afad3c42-f222-4ff9-ce73-9d71c7b5835a"
      },
      "source": [
        "#Plot of target distribution\n",
        "sns.countplot(x='y', data=df)"
      ],
      "execution_count": 21,
      "outputs": [
        {
          "output_type": "execute_result",
          "data": {
            "text/plain": [
              "<matplotlib.axes._subplots.AxesSubplot at 0x7f52c0c8c450>"
            ]
          },
          "metadata": {},
          "execution_count": 21
        },
        {
          "output_type": "display_data",
          "data": {
            "image/png": "[encoded data removed]",
            "text/plain": [
              "<Figure size 432x288 with 1 Axes>"
            ]
          },
          "metadata": {
            "needs_background": "light"
          }
        }
      ]
    },
    {
      "cell_type": "code",
      "metadata": {
        "colab": {
          "base_uri": "https://localhost:8080/"
        },
        "id": "T8dOuq7P0orR",
        "outputId": "2b45bd8e-2c87-4a24-c5c5-af03ffaf05bd"
      },
      "source": [
        "#Imbalanced dataset\n",
        "df['y'].value_counts().div(df.shape[0]).mul(100)"
      ],
      "execution_count": 22,
      "outputs": [
        {
          "output_type": "execute_result",
          "data": {
            "text/plain": [
              "0    88.30152\n",
              "1    11.69848\n",
              "Name: y, dtype: float64"
            ]
          },
          "metadata": {},
          "execution_count": 22
        }
      ]
    },
    {
      "cell_type": "code",
      "metadata": {
        "colab": {
          "base_uri": "https://localhost:8080/",
          "height": 454
        },
        "id": "JUN8LTGs0xmV",
        "outputId": "51485c43-5660-4f22-adc9-0f4e3f25ad6c"
      },
      "source": [
        "#Distribution of entire dataset\n",
        "df.hist(figsize=(20,10))\n",
        "plt.show()"
      ],
      "execution_count": 23,
      "outputs": [
        {
          "output_type": "display_data",
          "data": {
            "image/png": "[encoded data removed]",
            "text/plain": [
              "<Figure size 1440x720 with 20 Axes>"
            ]
          },
          "metadata": {
            "needs_background": "light"
          }
        }
      ]
    },
    {
      "cell_type": "code",
      "metadata": {
        "colab": {
          "base_uri": "https://localhost:8080/",
          "height": 596
        },
        "id": "a7Q1UoZ300BB",
        "outputId": "fb495801-71bd-401a-95f5-3c8058594e7b"
      },
      "source": [
        "#Correlation plot\n",
        "corr_mat = df.corr()\n",
        "corr_mat"
      ],
      "execution_count": 24,
      "outputs": [
        {
          "output_type": "execute_result",
          "data": {
            "text/html": [
              "<div>\n",
              "<style scoped>\n",
              "    .dataframe tbody tr th:only-of-type {\n",
              "        vertical-align: middle;\n",
              "    }\n",
              "\n",
              "    .dataframe tbody tr th {\n",
              "        vertical-align: top;\n",
              "    }\n",
              "\n",
              "    .dataframe thead th {\n",
              "        text-align: right;\n",
              "    }\n",
              "</style>\n",
              "<table border=\"1\" class=\"dataframe\">\n",
              "  <thead>\n",
              "    <tr style=\"text-align: right;\">\n",
              "      <th></th>\n",
              "      <th>age</th>\n",
              "      <th>job</th>\n",
              "      <th>marital</th>\n",
              "      <th>education</th>\n",
              "      <th>default</th>\n",
              "      <th>balance</th>\n",
              "      <th>housing</th>\n",
              "      <th>loan</th>\n",
              "      <th>contact</th>\n",
              "      <th>day</th>\n",
              "      <th>month</th>\n",
              "      <th>duration</th>\n",
              "      <th>campaign</th>\n",
              "      <th>pdays</th>\n",
              "      <th>previous</th>\n",
              "      <th>poutcome</th>\n",
              "      <th>y</th>\n",
              "    </tr>\n",
              "  </thead>\n",
              "  <tbody>\n",
              "    <tr>\n",
              "      <th>age</th>\n",
              "      <td>1.000000</td>\n",
              "      <td>-0.021868</td>\n",
              "      <td>-0.403240</td>\n",
              "      <td>-0.106807</td>\n",
              "      <td>-0.017879</td>\n",
              "      <td>0.097783</td>\n",
              "      <td>-0.185513</td>\n",
              "      <td>-0.015655</td>\n",
              "      <td>0.026221</td>\n",
              "      <td>-0.009120</td>\n",
              "      <td>-0.042357</td>\n",
              "      <td>-0.004648</td>\n",
              "      <td>0.004760</td>\n",
              "      <td>-0.023758</td>\n",
              "      <td>0.001288</td>\n",
              "      <td>0.007367</td>\n",
              "      <td>0.025155</td>\n",
              "    </tr>\n",
              "    <tr>\n",
              "      <th>job</th>\n",
              "      <td>-0.021868</td>\n",
              "      <td>1.000000</td>\n",
              "      <td>0.062045</td>\n",
              "      <td>0.166707</td>\n",
              "      <td>-0.006853</td>\n",
              "      <td>0.018232</td>\n",
              "      <td>-0.125363</td>\n",
              "      <td>-0.033004</td>\n",
              "      <td>-0.082063</td>\n",
              "      <td>0.022856</td>\n",
              "      <td>-0.092870</td>\n",
              "      <td>0.004744</td>\n",
              "      <td>0.006839</td>\n",
              "      <td>-0.024455</td>\n",
              "      <td>-0.000911</td>\n",
              "      <td>0.011010</td>\n",
              "      <td>0.040438</td>\n",
              "    </tr>\n",
              "    <tr>\n",
              "      <th>marital</th>\n",
              "      <td>-0.403240</td>\n",
              "      <td>0.062045</td>\n",
              "      <td>1.000000</td>\n",
              "      <td>0.108576</td>\n",
              "      <td>-0.007023</td>\n",
              "      <td>0.002122</td>\n",
              "      <td>-0.016096</td>\n",
              "      <td>-0.046893</td>\n",
              "      <td>-0.039201</td>\n",
              "      <td>-0.005261</td>\n",
              "      <td>-0.006991</td>\n",
              "      <td>0.011852</td>\n",
              "      <td>-0.008994</td>\n",
              "      <td>0.019172</td>\n",
              "      <td>0.014973</td>\n",
              "      <td>-0.016850</td>\n",
              "      <td>0.045588</td>\n",
              "    </tr>\n",
              "    <tr>\n",
              "      <th>education</th>\n",
              "      <td>-0.106807</td>\n",
              "      <td>0.166707</td>\n",
              "      <td>0.108576</td>\n",
              "      <td>1.000000</td>\n",
              "      <td>-0.010718</td>\n",
              "      <td>0.064514</td>\n",
              "      <td>-0.090790</td>\n",
              "      <td>-0.048574</td>\n",
              "      <td>-0.110928</td>\n",
              "      <td>0.022671</td>\n",
              "      <td>-0.057304</td>\n",
              "      <td>0.001935</td>\n",
              "      <td>0.006255</td>\n",
              "      <td>0.000052</td>\n",
              "      <td>0.017570</td>\n",
              "      <td>-0.019361</td>\n",
              "      <td>0.066241</td>\n",
              "    </tr>\n",
              "    <tr>\n",
              "      <th>default</th>\n",
              "      <td>-0.017879</td>\n",
              "      <td>-0.006853</td>\n",
              "      <td>-0.007023</td>\n",
              "      <td>-0.010718</td>\n",
              "      <td>1.000000</td>\n",
              "      <td>-0.066745</td>\n",
              "      <td>-0.006025</td>\n",
              "      <td>0.077234</td>\n",
              "      <td>0.015404</td>\n",
              "      <td>0.009424</td>\n",
              "      <td>0.011486</td>\n",
              "      <td>-0.010021</td>\n",
              "      <td>0.016822</td>\n",
              "      <td>-0.029979</td>\n",
              "      <td>-0.018329</td>\n",
              "      <td>0.034898</td>\n",
              "      <td>-0.022419</td>\n",
              "    </tr>\n",
              "    <tr>\n",
              "      <th>balance</th>\n",
              "      <td>0.097783</td>\n",
              "      <td>0.018232</td>\n",
              "      <td>0.002122</td>\n",
              "      <td>0.064514</td>\n",
              "      <td>-0.066745</td>\n",
              "      <td>1.000000</td>\n",
              "      <td>-0.068768</td>\n",
              "      <td>-0.084350</td>\n",
              "      <td>-0.027273</td>\n",
              "      <td>0.004503</td>\n",
              "      <td>0.019777</td>\n",
              "      <td>0.021560</td>\n",
              "      <td>-0.014578</td>\n",
              "      <td>0.003435</td>\n",
              "      <td>0.016674</td>\n",
              "      <td>-0.020967</td>\n",
              "      <td>0.052838</td>\n",
              "    </tr>\n",
              "    <tr>\n",
              "      <th>housing</th>\n",
              "      <td>-0.185513</td>\n",
              "      <td>-0.125363</td>\n",
              "      <td>-0.016096</td>\n",
              "      <td>-0.090790</td>\n",
              "      <td>-0.006025</td>\n",
              "      <td>-0.068768</td>\n",
              "      <td>1.000000</td>\n",
              "      <td>0.041323</td>\n",
              "      <td>0.188123</td>\n",
              "      <td>-0.027982</td>\n",
              "      <td>0.271481</td>\n",
              "      <td>0.005075</td>\n",
              "      <td>-0.023599</td>\n",
              "      <td>0.124178</td>\n",
              "      <td>0.037076</td>\n",
              "      <td>-0.099971</td>\n",
              "      <td>-0.139173</td>\n",
              "    </tr>\n",
              "    <tr>\n",
              "      <th>loan</th>\n",
              "      <td>-0.015655</td>\n",
              "      <td>-0.033004</td>\n",
              "      <td>-0.046893</td>\n",
              "      <td>-0.048574</td>\n",
              "      <td>0.077234</td>\n",
              "      <td>-0.084350</td>\n",
              "      <td>0.041323</td>\n",
              "      <td>1.000000</td>\n",
              "      <td>-0.010873</td>\n",
              "      <td>0.011370</td>\n",
              "      <td>0.022145</td>\n",
              "      <td>-0.012412</td>\n",
              "      <td>0.009980</td>\n",
              "      <td>-0.022754</td>\n",
              "      <td>-0.011043</td>\n",
              "      <td>0.015458</td>\n",
              "      <td>-0.068185</td>\n",
              "    </tr>\n",
              "    <tr>\n",
              "      <th>contact</th>\n",
              "      <td>0.026221</td>\n",
              "      <td>-0.082063</td>\n",
              "      <td>-0.039201</td>\n",
              "      <td>-0.110928</td>\n",
              "      <td>0.015404</td>\n",
              "      <td>-0.027273</td>\n",
              "      <td>0.188123</td>\n",
              "      <td>-0.010873</td>\n",
              "      <td>1.000000</td>\n",
              "      <td>-0.027936</td>\n",
              "      <td>0.361145</td>\n",
              "      <td>-0.020839</td>\n",
              "      <td>0.019614</td>\n",
              "      <td>-0.244816</td>\n",
              "      <td>-0.147811</td>\n",
              "      <td>0.272214</td>\n",
              "      <td>-0.148395</td>\n",
              "    </tr>\n",
              "    <tr>\n",
              "      <th>day</th>\n",
              "      <td>-0.009120</td>\n",
              "      <td>0.022856</td>\n",
              "      <td>-0.005261</td>\n",
              "      <td>0.022671</td>\n",
              "      <td>0.009424</td>\n",
              "      <td>0.004503</td>\n",
              "      <td>-0.027982</td>\n",
              "      <td>0.011370</td>\n",
              "      <td>-0.027936</td>\n",
              "      <td>1.000000</td>\n",
              "      <td>-0.006028</td>\n",
              "      <td>-0.030206</td>\n",
              "      <td>0.162490</td>\n",
              "      <td>-0.093044</td>\n",
              "      <td>-0.051710</td>\n",
              "      <td>0.083460</td>\n",
              "      <td>-0.028348</td>\n",
              "    </tr>\n",
              "    <tr>\n",
              "      <th>month</th>\n",
              "      <td>-0.042357</td>\n",
              "      <td>-0.092870</td>\n",
              "      <td>-0.006991</td>\n",
              "      <td>-0.057304</td>\n",
              "      <td>0.011486</td>\n",
              "      <td>0.019777</td>\n",
              "      <td>0.271481</td>\n",
              "      <td>0.022145</td>\n",
              "      <td>0.361145</td>\n",
              "      <td>-0.006028</td>\n",
              "      <td>1.000000</td>\n",
              "      <td>0.006314</td>\n",
              "      <td>-0.110031</td>\n",
              "      <td>0.033065</td>\n",
              "      <td>0.022727</td>\n",
              "      <td>-0.033038</td>\n",
              "      <td>-0.024471</td>\n",
              "    </tr>\n",
              "    <tr>\n",
              "      <th>duration</th>\n",
              "      <td>-0.004648</td>\n",
              "      <td>0.004744</td>\n",
              "      <td>0.011852</td>\n",
              "      <td>0.001935</td>\n",
              "      <td>-0.010021</td>\n",
              "      <td>0.021560</td>\n",
              "      <td>0.005075</td>\n",
              "      <td>-0.012412</td>\n",
              "      <td>-0.020839</td>\n",
              "      <td>-0.030206</td>\n",
              "      <td>0.006314</td>\n",
              "      <td>1.000000</td>\n",
              "      <td>-0.084570</td>\n",
              "      <td>-0.001565</td>\n",
              "      <td>0.001203</td>\n",
              "      <td>0.010925</td>\n",
              "      <td>0.394521</td>\n",
              "    </tr>\n",
              "    <tr>\n",
              "      <th>campaign</th>\n",
              "      <td>0.004760</td>\n",
              "      <td>0.006839</td>\n",
              "      <td>-0.008994</td>\n",
              "      <td>0.006255</td>\n",
              "      <td>0.016822</td>\n",
              "      <td>-0.014578</td>\n",
              "      <td>-0.023599</td>\n",
              "      <td>0.009980</td>\n",
              "      <td>0.019614</td>\n",
              "      <td>0.162490</td>\n",
              "      <td>-0.110031</td>\n",
              "      <td>-0.084570</td>\n",
              "      <td>1.000000</td>\n",
              "      <td>-0.088628</td>\n",
              "      <td>-0.032855</td>\n",
              "      <td>0.101588</td>\n",
              "      <td>-0.073172</td>\n",
              "    </tr>\n",
              "    <tr>\n",
              "      <th>pdays</th>\n",
              "      <td>-0.023758</td>\n",
              "      <td>-0.024455</td>\n",
              "      <td>0.019172</td>\n",
              "      <td>0.000052</td>\n",
              "      <td>-0.029979</td>\n",
              "      <td>0.003435</td>\n",
              "      <td>0.124178</td>\n",
              "      <td>-0.022754</td>\n",
              "      <td>-0.244816</td>\n",
              "      <td>-0.093044</td>\n",
              "      <td>0.033065</td>\n",
              "      <td>-0.001565</td>\n",
              "      <td>-0.088628</td>\n",
              "      <td>1.000000</td>\n",
              "      <td>0.454820</td>\n",
              "      <td>-0.858362</td>\n",
              "      <td>0.103621</td>\n",
              "    </tr>\n",
              "    <tr>\n",
              "      <th>previous</th>\n",
              "      <td>0.001288</td>\n",
              "      <td>-0.000911</td>\n",
              "      <td>0.014973</td>\n",
              "      <td>0.017570</td>\n",
              "      <td>-0.018329</td>\n",
              "      <td>0.016674</td>\n",
              "      <td>0.037076</td>\n",
              "      <td>-0.011043</td>\n",
              "      <td>-0.147811</td>\n",
              "      <td>-0.051710</td>\n",
              "      <td>0.022727</td>\n",
              "      <td>0.001203</td>\n",
              "      <td>-0.032855</td>\n",
              "      <td>0.454820</td>\n",
              "      <td>1.000000</td>\n",
              "      <td>-0.489752</td>\n",
              "      <td>0.093236</td>\n",
              "    </tr>\n",
              "    <tr>\n",
              "      <th>poutcome</th>\n",
              "      <td>0.007367</td>\n",
              "      <td>0.011010</td>\n",
              "      <td>-0.016850</td>\n",
              "      <td>-0.019361</td>\n",
              "      <td>0.034898</td>\n",
              "      <td>-0.020967</td>\n",
              "      <td>-0.099971</td>\n",
              "      <td>0.015458</td>\n",
              "      <td>0.272214</td>\n",
              "      <td>0.083460</td>\n",
              "      <td>-0.033038</td>\n",
              "      <td>0.010925</td>\n",
              "      <td>0.101588</td>\n",
              "      <td>-0.858362</td>\n",
              "      <td>-0.489752</td>\n",
              "      <td>1.000000</td>\n",
              "      <td>-0.077840</td>\n",
              "    </tr>\n",
              "    <tr>\n",
              "      <th>y</th>\n",
              "      <td>0.025155</td>\n",
              "      <td>0.040438</td>\n",
              "      <td>0.045588</td>\n",
              "      <td>0.066241</td>\n",
              "      <td>-0.022419</td>\n",
              "      <td>0.052838</td>\n",
              "      <td>-0.139173</td>\n",
              "      <td>-0.068185</td>\n",
              "      <td>-0.148395</td>\n",
              "      <td>-0.028348</td>\n",
              "      <td>-0.024471</td>\n",
              "      <td>0.394521</td>\n",
              "      <td>-0.073172</td>\n",
              "      <td>0.103621</td>\n",
              "      <td>0.093236</td>\n",
              "      <td>-0.077840</td>\n",
              "      <td>1.000000</td>\n",
              "    </tr>\n",
              "  </tbody>\n",
              "</table>\n",
              "</div>"
            ],
            "text/plain": [
              "                age       job   marital  ...  previous  poutcome         y\n",
              "age        1.000000 -0.021868 -0.403240  ...  0.001288  0.007367  0.025155\n",
              "job       -0.021868  1.000000  0.062045  ... -0.000911  0.011010  0.040438\n",
              "marital   -0.403240  0.062045  1.000000  ...  0.014973 -0.016850  0.045588\n",
              "education -0.106807  0.166707  0.108576  ...  0.017570 -0.019361  0.066241\n",
              "default   -0.017879 -0.006853 -0.007023  ... -0.018329  0.034898 -0.022419\n",
              "balance    0.097783  0.018232  0.002122  ...  0.016674 -0.020967  0.052838\n",
              "housing   -0.185513 -0.125363 -0.016096  ...  0.037076 -0.099971 -0.139173\n",
              "loan      -0.015655 -0.033004 -0.046893  ... -0.011043  0.015458 -0.068185\n",
              "contact    0.026221 -0.082063 -0.039201  ... -0.147811  0.272214 -0.148395\n",
              "day       -0.009120  0.022856 -0.005261  ... -0.051710  0.083460 -0.028348\n",
              "month     -0.042357 -0.092870 -0.006991  ...  0.022727 -0.033038 -0.024471\n",
              "duration  -0.004648  0.004744  0.011852  ...  0.001203  0.010925  0.394521\n",
              "campaign   0.004760  0.006839 -0.008994  ... -0.032855  0.101588 -0.073172\n",
              "pdays     -0.023758 -0.024455  0.019172  ...  0.454820 -0.858362  0.103621\n",
              "previous   0.001288 -0.000911  0.014973  ...  1.000000 -0.489752  0.093236\n",
              "poutcome   0.007367  0.011010 -0.016850  ... -0.489752  1.000000 -0.077840\n",
              "y          0.025155  0.040438  0.045588  ...  0.093236 -0.077840  1.000000\n",
              "\n",
              "[17 rows x 17 columns]"
            ]
          },
          "metadata": {},
          "execution_count": 24
        }
      ]
    },
    {
      "cell_type": "code",
      "metadata": {
        "colab": {
          "base_uri": "https://localhost:8080/",
          "height": 482
        },
        "id": "tywmL4aK1H0D",
        "outputId": "4c948d12-201c-4a50-e1c1-8a36c3cb646d"
      },
      "source": [
        "plt.figure(figsize=(20,10))\n",
        "sns.heatmap(corr_mat,annot=True)\n",
        "plt.show()"
      ],
      "execution_count": 25,
      "outputs": [
        {
          "output_type": "display_data",
          "data": {
            "image/png": "[encoded data removed]",
            "text/plain": [
              "<Figure size 1440x720 with 2 Axes>"
            ]
          },
          "metadata": {
            "needs_background": "light"
          }
        }
      ]
    },
    {
      "cell_type": "code",
      "metadata": {
        "id": "6l62Na5L1M8k"
      },
      "source": [
        "#Feature selection\n",
        "from sklearn.feature_selection import SelectKBest\n",
        "from sklearn.feature_selection import chi2"
      ],
      "execution_count": 26,
      "outputs": []
    },
    {
      "cell_type": "code",
      "metadata": {
        "id": "E-QUTGQA1fwP"
      },
      "source": [
        "def select_best_features(xfeatures, ylabels,score_fxn=chi2):\n",
        "    skb = SelectKBest(score_func=score_fxn,k=10)\n",
        "    best_feature_fit = skb.fit(xfeatures,ylabels)\n",
        "    best_feat_df = pd.DataFrame({'feature_scores':best_feature_fit.scores_,'feature_name':xfeatures.columns})\n",
        "    return best_feat_df"
      ],
      "execution_count": 27,
      "outputs": []
    },
    {
      "cell_type": "code",
      "metadata": {
        "id": "xkle6Ueg1652"
      },
      "source": [
        "Xfeatures = df[['age', 'job', 'marital', 'education', 'default', 'housing',\n",
        "       'loan', 'contact', 'day', 'month', 'duration', 'campaign',\n",
        "       'previous', 'poutcome']]"
      ],
      "execution_count": 28,
      "outputs": []
    },
    {
      "cell_type": "code",
      "metadata": {
        "id": "ZmqIEbBd2FXD"
      },
      "source": [
        "ylabels = df['y']"
      ],
      "execution_count": 29,
      "outputs": []
    },
    {
      "cell_type": "code",
      "metadata": {
        "id": "GbnGlufK180Q"
      },
      "source": [
        "best_features = select_best_features(Xfeatures,ylabels)"
      ],
      "execution_count": 30,
      "outputs": []
    },
    {
      "cell_type": "code",
      "metadata": {
        "colab": {
          "base_uri": "https://localhost:8080/",
          "height": 224
        },
        "id": "XGbnp1TU2Vsa",
        "outputId": "a40c10a7-7d43-4c85-96c3-bb9cdb7b74d9"
      },
      "source": [
        "df.sample(5)"
      ],
      "execution_count": 31,
      "outputs": [
        {
          "output_type": "execute_result",
          "data": {
            "text/html": [
              "<div>\n",
              "<style scoped>\n",
              "    .dataframe tbody tr th:only-of-type {\n",
              "        vertical-align: middle;\n",
              "    }\n",
              "\n",
              "    .dataframe tbody tr th {\n",
              "        vertical-align: top;\n",
              "    }\n",
              "\n",
              "    .dataframe thead th {\n",
              "        text-align: right;\n",
              "    }\n",
              "</style>\n",
              "<table border=\"1\" class=\"dataframe\">\n",
              "  <thead>\n",
              "    <tr style=\"text-align: right;\">\n",
              "      <th></th>\n",
              "      <th>age</th>\n",
              "      <th>job</th>\n",
              "      <th>marital</th>\n",
              "      <th>education</th>\n",
              "      <th>default</th>\n",
              "      <th>balance</th>\n",
              "      <th>housing</th>\n",
              "      <th>loan</th>\n",
              "      <th>contact</th>\n",
              "      <th>day</th>\n",
              "      <th>month</th>\n",
              "      <th>duration</th>\n",
              "      <th>campaign</th>\n",
              "      <th>pdays</th>\n",
              "      <th>previous</th>\n",
              "      <th>poutcome</th>\n",
              "      <th>y</th>\n",
              "    </tr>\n",
              "  </thead>\n",
              "  <tbody>\n",
              "    <tr>\n",
              "      <th>25653</th>\n",
              "      <td>46</td>\n",
              "      <td>9.0</td>\n",
              "      <td>0.0</td>\n",
              "      <td>1.0</td>\n",
              "      <td>0.0</td>\n",
              "      <td>-26</td>\n",
              "      <td>1.0</td>\n",
              "      <td>1.0</td>\n",
              "      <td>0.0</td>\n",
              "      <td>19</td>\n",
              "      <td>9.0</td>\n",
              "      <td>201</td>\n",
              "      <td>1</td>\n",
              "      <td>113</td>\n",
              "      <td>2</td>\n",
              "      <td>1.0</td>\n",
              "      <td>0</td>\n",
              "    </tr>\n",
              "    <tr>\n",
              "      <th>37478</th>\n",
              "      <td>38</td>\n",
              "      <td>1.0</td>\n",
              "      <td>0.0</td>\n",
              "      <td>0.0</td>\n",
              "      <td>0.0</td>\n",
              "      <td>0</td>\n",
              "      <td>1.0</td>\n",
              "      <td>0.0</td>\n",
              "      <td>0.0</td>\n",
              "      <td>13</td>\n",
              "      <td>8.0</td>\n",
              "      <td>531</td>\n",
              "      <td>2</td>\n",
              "      <td>-1</td>\n",
              "      <td>0</td>\n",
              "      <td>3.0</td>\n",
              "      <td>1</td>\n",
              "    </tr>\n",
              "    <tr>\n",
              "      <th>31337</th>\n",
              "      <td>47</td>\n",
              "      <td>1.0</td>\n",
              "      <td>1.0</td>\n",
              "      <td>1.0</td>\n",
              "      <td>0.0</td>\n",
              "      <td>238</td>\n",
              "      <td>1.0</td>\n",
              "      <td>1.0</td>\n",
              "      <td>0.0</td>\n",
              "      <td>13</td>\n",
              "      <td>7.0</td>\n",
              "      <td>3076</td>\n",
              "      <td>1</td>\n",
              "      <td>-1</td>\n",
              "      <td>0</td>\n",
              "      <td>3.0</td>\n",
              "      <td>1</td>\n",
              "    </tr>\n",
              "    <tr>\n",
              "      <th>34279</th>\n",
              "      <td>36</td>\n",
              "      <td>6.0</td>\n",
              "      <td>1.0</td>\n",
              "      <td>1.0</td>\n",
              "      <td>0.0</td>\n",
              "      <td>188</td>\n",
              "      <td>1.0</td>\n",
              "      <td>1.0</td>\n",
              "      <td>0.0</td>\n",
              "      <td>4</td>\n",
              "      <td>8.0</td>\n",
              "      <td>1046</td>\n",
              "      <td>3</td>\n",
              "      <td>333</td>\n",
              "      <td>2</td>\n",
              "      <td>2.0</td>\n",
              "      <td>1</td>\n",
              "    </tr>\n",
              "    <tr>\n",
              "      <th>28008</th>\n",
              "      <td>48</td>\n",
              "      <td>10.0</td>\n",
              "      <td>0.0</td>\n",
              "      <td>0.0</td>\n",
              "      <td>0.0</td>\n",
              "      <td>840</td>\n",
              "      <td>0.0</td>\n",
              "      <td>0.0</td>\n",
              "      <td>0.0</td>\n",
              "      <td>28</td>\n",
              "      <td>4.0</td>\n",
              "      <td>196</td>\n",
              "      <td>1</td>\n",
              "      <td>-1</td>\n",
              "      <td>0</td>\n",
              "      <td>3.0</td>\n",
              "      <td>0</td>\n",
              "    </tr>\n",
              "  </tbody>\n",
              "</table>\n",
              "</div>"
            ],
            "text/plain": [
              "       age   job  marital  education  ...  pdays  previous  poutcome  y\n",
              "25653   46   9.0      0.0        1.0  ...    113         2       1.0  0\n",
              "37478   38   1.0      0.0        0.0  ...     -1         0       3.0  1\n",
              "31337   47   1.0      1.0        1.0  ...     -1         0       3.0  1\n",
              "34279   36   6.0      1.0        1.0  ...    333         2       2.0  1\n",
              "28008   48  10.0      0.0        0.0  ...     -1         0       3.0  0\n",
              "\n",
              "[5 rows x 17 columns]"
            ]
          },
          "metadata": {},
          "execution_count": 31
        }
      ]
    },
    {
      "cell_type": "code",
      "metadata": {
        "colab": {
          "base_uri": "https://localhost:8080/",
          "height": 421
        },
        "id": "ZSVtdPtP2Zmr",
        "outputId": "d1f0b4f4-bb62-404c-9b58-d80a64258090"
      },
      "source": [
        "best_features.nlargest(12,'feature_scores')"
      ],
      "execution_count": 32,
      "outputs": [
        {
          "output_type": "execute_result",
          "data": {
            "text/html": [
              "<div>\n",
              "<style scoped>\n",
              "    .dataframe tbody tr th:only-of-type {\n",
              "        vertical-align: middle;\n",
              "    }\n",
              "\n",
              "    .dataframe tbody tr th {\n",
              "        vertical-align: top;\n",
              "    }\n",
              "\n",
              "    .dataframe thead th {\n",
              "        text-align: right;\n",
              "    }\n",
              "</style>\n",
              "<table border=\"1\" class=\"dataframe\">\n",
              "  <thead>\n",
              "    <tr style=\"text-align: right;\">\n",
              "      <th></th>\n",
              "      <th>feature_scores</th>\n",
              "      <th>feature_name</th>\n",
              "    </tr>\n",
              "  </thead>\n",
              "  <tbody>\n",
              "    <tr>\n",
              "      <th>10</th>\n",
              "      <td>1.807711e+06</td>\n",
              "      <td>duration</td>\n",
              "    </tr>\n",
              "    <tr>\n",
              "      <th>12</th>\n",
              "      <td>3.593220e+03</td>\n",
              "      <td>previous</td>\n",
              "    </tr>\n",
              "    <tr>\n",
              "      <th>7</th>\n",
              "      <td>1.253814e+03</td>\n",
              "      <td>contact</td>\n",
              "    </tr>\n",
              "    <tr>\n",
              "      <th>11</th>\n",
              "      <td>8.405821e+02</td>\n",
              "      <td>campaign</td>\n",
              "    </tr>\n",
              "    <tr>\n",
              "      <th>5</th>\n",
              "      <td>3.889497e+02</td>\n",
              "      <td>housing</td>\n",
              "    </tr>\n",
              "    <tr>\n",
              "      <th>1</th>\n",
              "      <td>1.824523e+02</td>\n",
              "      <td>job</td>\n",
              "    </tr>\n",
              "    <tr>\n",
              "      <th>6</th>\n",
              "      <td>1.765161e+02</td>\n",
              "      <td>loan</td>\n",
              "    </tr>\n",
              "    <tr>\n",
              "      <th>8</th>\n",
              "      <td>1.592004e+02</td>\n",
              "      <td>day</td>\n",
              "    </tr>\n",
              "    <tr>\n",
              "      <th>13</th>\n",
              "      <td>1.046775e+02</td>\n",
              "      <td>poutcome</td>\n",
              "    </tr>\n",
              "    <tr>\n",
              "      <th>3</th>\n",
              "      <td>9.061772e+01</td>\n",
              "      <td>education</td>\n",
              "    </tr>\n",
              "    <tr>\n",
              "      <th>0</th>\n",
              "      <td>7.879958e+01</td>\n",
              "      <td>age</td>\n",
              "    </tr>\n",
              "    <tr>\n",
              "      <th>9</th>\n",
              "      <td>4.432191e+01</td>\n",
              "      <td>month</td>\n",
              "    </tr>\n",
              "  </tbody>\n",
              "</table>\n",
              "</div>"
            ],
            "text/plain": [
              "    feature_scores feature_name\n",
              "10    1.807711e+06     duration\n",
              "12    3.593220e+03     previous\n",
              "7     1.253814e+03      contact\n",
              "11    8.405821e+02     campaign\n",
              "5     3.889497e+02      housing\n",
              "1     1.824523e+02          job\n",
              "6     1.765161e+02         loan\n",
              "8     1.592004e+02          day\n",
              "13    1.046775e+02     poutcome\n",
              "3     9.061772e+01    education\n",
              "0     7.879958e+01          age\n",
              "9     4.432191e+01        month"
            ]
          },
          "metadata": {},
          "execution_count": 32
        }
      ]
    },
    {
      "cell_type": "code",
      "metadata": {
        "colab": {
          "base_uri": "https://localhost:8080/"
        },
        "id": "BtTaXsrX226s",
        "outputId": "5ed009e2-23c8-46af-ddfc-5b762d0d63f2"
      },
      "source": [
        "df.shape"
      ],
      "execution_count": 33,
      "outputs": [
        {
          "output_type": "execute_result",
          "data": {
            "text/plain": [
              "(45211, 17)"
            ]
          },
          "metadata": {},
          "execution_count": 33
        }
      ]
    },
    {
      "cell_type": "code",
      "metadata": {
        "colab": {
          "base_uri": "https://localhost:8080/",
          "height": 421
        },
        "id": "Nr5bdgov3Dg8",
        "outputId": "c528fbc3-3930-49a1-9bdd-37567c77a8ae"
      },
      "source": [
        "best_features.nlargest(12,'feature_scores')"
      ],
      "execution_count": 34,
      "outputs": [
        {
          "output_type": "execute_result",
          "data": {
            "text/html": [
              "<div>\n",
              "<style scoped>\n",
              "    .dataframe tbody tr th:only-of-type {\n",
              "        vertical-align: middle;\n",
              "    }\n",
              "\n",
              "    .dataframe tbody tr th {\n",
              "        vertical-align: top;\n",
              "    }\n",
              "\n",
              "    .dataframe thead th {\n",
              "        text-align: right;\n",
              "    }\n",
              "</style>\n",
              "<table border=\"1\" class=\"dataframe\">\n",
              "  <thead>\n",
              "    <tr style=\"text-align: right;\">\n",
              "      <th></th>\n",
              "      <th>feature_scores</th>\n",
              "      <th>feature_name</th>\n",
              "    </tr>\n",
              "  </thead>\n",
              "  <tbody>\n",
              "    <tr>\n",
              "      <th>10</th>\n",
              "      <td>1.807711e+06</td>\n",
              "      <td>duration</td>\n",
              "    </tr>\n",
              "    <tr>\n",
              "      <th>12</th>\n",
              "      <td>3.593220e+03</td>\n",
              "      <td>previous</td>\n",
              "    </tr>\n",
              "    <tr>\n",
              "      <th>7</th>\n",
              "      <td>1.253814e+03</td>\n",
              "      <td>contact</td>\n",
              "    </tr>\n",
              "    <tr>\n",
              "      <th>11</th>\n",
              "      <td>8.405821e+02</td>\n",
              "      <td>campaign</td>\n",
              "    </tr>\n",
              "    <tr>\n",
              "      <th>5</th>\n",
              "      <td>3.889497e+02</td>\n",
              "      <td>housing</td>\n",
              "    </tr>\n",
              "    <tr>\n",
              "      <th>1</th>\n",
              "      <td>1.824523e+02</td>\n",
              "      <td>job</td>\n",
              "    </tr>\n",
              "    <tr>\n",
              "      <th>6</th>\n",
              "      <td>1.765161e+02</td>\n",
              "      <td>loan</td>\n",
              "    </tr>\n",
              "    <tr>\n",
              "      <th>8</th>\n",
              "      <td>1.592004e+02</td>\n",
              "      <td>day</td>\n",
              "    </tr>\n",
              "    <tr>\n",
              "      <th>13</th>\n",
              "      <td>1.046775e+02</td>\n",
              "      <td>poutcome</td>\n",
              "    </tr>\n",
              "    <tr>\n",
              "      <th>3</th>\n",
              "      <td>9.061772e+01</td>\n",
              "      <td>education</td>\n",
              "    </tr>\n",
              "    <tr>\n",
              "      <th>0</th>\n",
              "      <td>7.879958e+01</td>\n",
              "      <td>age</td>\n",
              "    </tr>\n",
              "    <tr>\n",
              "      <th>9</th>\n",
              "      <td>4.432191e+01</td>\n",
              "      <td>month</td>\n",
              "    </tr>\n",
              "  </tbody>\n",
              "</table>\n",
              "</div>"
            ],
            "text/plain": [
              "    feature_scores feature_name\n",
              "10    1.807711e+06     duration\n",
              "12    3.593220e+03     previous\n",
              "7     1.253814e+03      contact\n",
              "11    8.405821e+02     campaign\n",
              "5     3.889497e+02      housing\n",
              "1     1.824523e+02          job\n",
              "6     1.765161e+02         loan\n",
              "8     1.592004e+02          day\n",
              "13    1.046775e+02     poutcome\n",
              "3     9.061772e+01    education\n",
              "0     7.879958e+01          age\n",
              "9     4.432191e+01        month"
            ]
          },
          "metadata": {},
          "execution_count": 34
        }
      ]
    },
    {
      "cell_type": "code",
      "metadata": {
        "id": "fILFzEYo3HMD"
      },
      "source": [
        "selected_features = best_features.nlargest(15,'feature_scores')['feature_name'].tolist()"
      ],
      "execution_count": 35,
      "outputs": []
    },
    {
      "cell_type": "code",
      "metadata": {
        "id": "RhhHXp2z3TAC"
      },
      "source": [
        "#Selected features\n",
        "Xselected = df[selected_features]"
      ],
      "execution_count": 36,
      "outputs": []
    },
    {
      "cell_type": "code",
      "metadata": {
        "colab": {
          "base_uri": "https://localhost:8080/",
          "height": 439
        },
        "id": "aq5Kkqrh3VPC",
        "outputId": "4d37ffbb-4ec2-475f-ae15-d3d84d1e7fca"
      },
      "source": [
        "Xselected"
      ],
      "execution_count": 37,
      "outputs": [
        {
          "output_type": "execute_result",
          "data": {
            "text/html": [
              "<div>\n",
              "<style scoped>\n",
              "    .dataframe tbody tr th:only-of-type {\n",
              "        vertical-align: middle;\n",
              "    }\n",
              "\n",
              "    .dataframe tbody tr th {\n",
              "        vertical-align: top;\n",
              "    }\n",
              "\n",
              "    .dataframe thead th {\n",
              "        text-align: right;\n",
              "    }\n",
              "</style>\n",
              "<table border=\"1\" class=\"dataframe\">\n",
              "  <thead>\n",
              "    <tr style=\"text-align: right;\">\n",
              "      <th></th>\n",
              "      <th>duration</th>\n",
              "      <th>previous</th>\n",
              "      <th>contact</th>\n",
              "      <th>campaign</th>\n",
              "      <th>housing</th>\n",
              "      <th>job</th>\n",
              "      <th>loan</th>\n",
              "      <th>day</th>\n",
              "      <th>poutcome</th>\n",
              "      <th>education</th>\n",
              "      <th>age</th>\n",
              "      <th>month</th>\n",
              "      <th>marital</th>\n",
              "      <th>default</th>\n",
              "    </tr>\n",
              "  </thead>\n",
              "  <tbody>\n",
              "    <tr>\n",
              "      <th>0</th>\n",
              "      <td>261</td>\n",
              "      <td>0</td>\n",
              "      <td>2.0</td>\n",
              "      <td>1</td>\n",
              "      <td>1.0</td>\n",
              "      <td>4.0</td>\n",
              "      <td>0.0</td>\n",
              "      <td>5</td>\n",
              "      <td>3.0</td>\n",
              "      <td>2.0</td>\n",
              "      <td>58</td>\n",
              "      <td>8.0</td>\n",
              "      <td>1.0</td>\n",
              "      <td>0.0</td>\n",
              "    </tr>\n",
              "    <tr>\n",
              "      <th>1</th>\n",
              "      <td>151</td>\n",
              "      <td>0</td>\n",
              "      <td>2.0</td>\n",
              "      <td>1</td>\n",
              "      <td>1.0</td>\n",
              "      <td>9.0</td>\n",
              "      <td>0.0</td>\n",
              "      <td>5</td>\n",
              "      <td>3.0</td>\n",
              "      <td>1.0</td>\n",
              "      <td>44</td>\n",
              "      <td>8.0</td>\n",
              "      <td>2.0</td>\n",
              "      <td>0.0</td>\n",
              "    </tr>\n",
              "    <tr>\n",
              "      <th>2</th>\n",
              "      <td>76</td>\n",
              "      <td>0</td>\n",
              "      <td>2.0</td>\n",
              "      <td>1</td>\n",
              "      <td>1.0</td>\n",
              "      <td>2.0</td>\n",
              "      <td>1.0</td>\n",
              "      <td>5</td>\n",
              "      <td>3.0</td>\n",
              "      <td>1.0</td>\n",
              "      <td>33</td>\n",
              "      <td>8.0</td>\n",
              "      <td>1.0</td>\n",
              "      <td>0.0</td>\n",
              "    </tr>\n",
              "    <tr>\n",
              "      <th>3</th>\n",
              "      <td>92</td>\n",
              "      <td>0</td>\n",
              "      <td>2.0</td>\n",
              "      <td>1</td>\n",
              "      <td>1.0</td>\n",
              "      <td>1.0</td>\n",
              "      <td>0.0</td>\n",
              "      <td>5</td>\n",
              "      <td>3.0</td>\n",
              "      <td>3.0</td>\n",
              "      <td>47</td>\n",
              "      <td>8.0</td>\n",
              "      <td>1.0</td>\n",
              "      <td>0.0</td>\n",
              "    </tr>\n",
              "    <tr>\n",
              "      <th>4</th>\n",
              "      <td>198</td>\n",
              "      <td>0</td>\n",
              "      <td>2.0</td>\n",
              "      <td>1</td>\n",
              "      <td>0.0</td>\n",
              "      <td>11.0</td>\n",
              "      <td>0.0</td>\n",
              "      <td>5</td>\n",
              "      <td>3.0</td>\n",
              "      <td>3.0</td>\n",
              "      <td>33</td>\n",
              "      <td>8.0</td>\n",
              "      <td>2.0</td>\n",
              "      <td>0.0</td>\n",
              "    </tr>\n",
              "    <tr>\n",
              "      <th>...</th>\n",
              "      <td>...</td>\n",
              "      <td>...</td>\n",
              "      <td>...</td>\n",
              "      <td>...</td>\n",
              "      <td>...</td>\n",
              "      <td>...</td>\n",
              "      <td>...</td>\n",
              "      <td>...</td>\n",
              "      <td>...</td>\n",
              "      <td>...</td>\n",
              "      <td>...</td>\n",
              "      <td>...</td>\n",
              "      <td>...</td>\n",
              "      <td>...</td>\n",
              "    </tr>\n",
              "    <tr>\n",
              "      <th>45206</th>\n",
              "      <td>977</td>\n",
              "      <td>0</td>\n",
              "      <td>0.0</td>\n",
              "      <td>3</td>\n",
              "      <td>0.0</td>\n",
              "      <td>9.0</td>\n",
              "      <td>0.0</td>\n",
              "      <td>17</td>\n",
              "      <td>3.0</td>\n",
              "      <td>2.0</td>\n",
              "      <td>51</td>\n",
              "      <td>9.0</td>\n",
              "      <td>1.0</td>\n",
              "      <td>0.0</td>\n",
              "    </tr>\n",
              "    <tr>\n",
              "      <th>45207</th>\n",
              "      <td>456</td>\n",
              "      <td>0</td>\n",
              "      <td>0.0</td>\n",
              "      <td>2</td>\n",
              "      <td>0.0</td>\n",
              "      <td>5.0</td>\n",
              "      <td>0.0</td>\n",
              "      <td>17</td>\n",
              "      <td>3.0</td>\n",
              "      <td>0.0</td>\n",
              "      <td>71</td>\n",
              "      <td>9.0</td>\n",
              "      <td>0.0</td>\n",
              "      <td>0.0</td>\n",
              "    </tr>\n",
              "    <tr>\n",
              "      <th>45208</th>\n",
              "      <td>1127</td>\n",
              "      <td>3</td>\n",
              "      <td>0.0</td>\n",
              "      <td>5</td>\n",
              "      <td>0.0</td>\n",
              "      <td>5.0</td>\n",
              "      <td>0.0</td>\n",
              "      <td>17</td>\n",
              "      <td>2.0</td>\n",
              "      <td>1.0</td>\n",
              "      <td>72</td>\n",
              "      <td>9.0</td>\n",
              "      <td>1.0</td>\n",
              "      <td>0.0</td>\n",
              "    </tr>\n",
              "    <tr>\n",
              "      <th>45209</th>\n",
              "      <td>508</td>\n",
              "      <td>0</td>\n",
              "      <td>1.0</td>\n",
              "      <td>4</td>\n",
              "      <td>0.0</td>\n",
              "      <td>1.0</td>\n",
              "      <td>0.0</td>\n",
              "      <td>17</td>\n",
              "      <td>3.0</td>\n",
              "      <td>1.0</td>\n",
              "      <td>57</td>\n",
              "      <td>9.0</td>\n",
              "      <td>1.0</td>\n",
              "      <td>0.0</td>\n",
              "    </tr>\n",
              "    <tr>\n",
              "      <th>45210</th>\n",
              "      <td>361</td>\n",
              "      <td>11</td>\n",
              "      <td>0.0</td>\n",
              "      <td>2</td>\n",
              "      <td>0.0</td>\n",
              "      <td>2.0</td>\n",
              "      <td>0.0</td>\n",
              "      <td>17</td>\n",
              "      <td>1.0</td>\n",
              "      <td>1.0</td>\n",
              "      <td>37</td>\n",
              "      <td>9.0</td>\n",
              "      <td>1.0</td>\n",
              "      <td>0.0</td>\n",
              "    </tr>\n",
              "  </tbody>\n",
              "</table>\n",
              "<p>45211 rows × 14 columns</p>\n",
              "</div>"
            ],
            "text/plain": [
              "       duration  previous  contact  campaign  ...  age  month  marital  default\n",
              "0           261         0      2.0         1  ...   58    8.0      1.0      0.0\n",
              "1           151         0      2.0         1  ...   44    8.0      2.0      0.0\n",
              "2            76         0      2.0         1  ...   33    8.0      1.0      0.0\n",
              "3            92         0      2.0         1  ...   47    8.0      1.0      0.0\n",
              "4           198         0      2.0         1  ...   33    8.0      2.0      0.0\n",
              "...         ...       ...      ...       ...  ...  ...    ...      ...      ...\n",
              "45206       977         0      0.0         3  ...   51    9.0      1.0      0.0\n",
              "45207       456         0      0.0         2  ...   71    9.0      0.0      0.0\n",
              "45208      1127         3      0.0         5  ...   72    9.0      1.0      0.0\n",
              "45209       508         0      1.0         4  ...   57    9.0      1.0      0.0\n",
              "45210       361        11      0.0         2  ...   37    9.0      1.0      0.0\n",
              "\n",
              "[45211 rows x 14 columns]"
            ]
          },
          "metadata": {},
          "execution_count": 37
        }
      ]
    },
    {
      "cell_type": "code",
      "metadata": {
        "id": "OWPLG1-43WbI"
      },
      "source": [
        "#Train/Test Split dataset\n",
        "X_train,X_test,y_train,y_test = train_test_split(Xselected,ylabels,test_size=0.3,random_state=42)"
      ],
      "execution_count": 39,
      "outputs": []
    },
    {
      "cell_type": "code",
      "metadata": {
        "id": "0efM9ZhTAf93"
      },
      "source": [
        "#Scaling dataset\n",
        "from sklearn.preprocessing import StandardScaler,MinMaxScaler\n",
        "sc = StandardScaler()"
      ],
      "execution_count": 38,
      "outputs": []
    },
    {
      "cell_type": "code",
      "metadata": {
        "colab": {
          "base_uri": "https://localhost:8080/"
        },
        "id": "_g3oq6jFAlSA",
        "outputId": "d907720b-8d8d-404f-9405-5986899b58a7"
      },
      "source": [
        "sc.fit(X_train)"
      ],
      "execution_count": 48,
      "outputs": [
        {
          "output_type": "execute_result",
          "data": {
            "text/plain": [
              "MinMaxScaler(copy=True, feature_range=(0, 1))"
            ]
          },
          "metadata": {},
          "execution_count": 48
        }
      ]
    },
    {
      "cell_type": "code",
      "metadata": {
        "id": "nKq-1kJzBCX-"
      },
      "source": [
        "X_train_scaled = sc.transform(X_train)"
      ],
      "execution_count": 49,
      "outputs": []
    },
    {
      "cell_type": "code",
      "metadata": {
        "colab": {
          "base_uri": "https://localhost:8080/",
          "height": 224
        },
        "id": "o2WlfLglBM4p",
        "outputId": "c4d78a10-53ff-4b01-880a-026a0a215608"
      },
      "source": [
        "X_train.head()"
      ],
      "execution_count": 43,
      "outputs": [
        {
          "output_type": "execute_result",
          "data": {
            "text/html": [
              "<div>\n",
              "<style scoped>\n",
              "    .dataframe tbody tr th:only-of-type {\n",
              "        vertical-align: middle;\n",
              "    }\n",
              "\n",
              "    .dataframe tbody tr th {\n",
              "        vertical-align: top;\n",
              "    }\n",
              "\n",
              "    .dataframe thead th {\n",
              "        text-align: right;\n",
              "    }\n",
              "</style>\n",
              "<table border=\"1\" class=\"dataframe\">\n",
              "  <thead>\n",
              "    <tr style=\"text-align: right;\">\n",
              "      <th></th>\n",
              "      <th>duration</th>\n",
              "      <th>previous</th>\n",
              "      <th>contact</th>\n",
              "      <th>campaign</th>\n",
              "      <th>housing</th>\n",
              "      <th>job</th>\n",
              "      <th>loan</th>\n",
              "      <th>day</th>\n",
              "      <th>poutcome</th>\n",
              "      <th>education</th>\n",
              "      <th>age</th>\n",
              "      <th>month</th>\n",
              "      <th>marital</th>\n",
              "      <th>default</th>\n",
              "    </tr>\n",
              "  </thead>\n",
              "  <tbody>\n",
              "    <tr>\n",
              "      <th>10747</th>\n",
              "      <td>153</td>\n",
              "      <td>0</td>\n",
              "      <td>2.0</td>\n",
              "      <td>4</td>\n",
              "      <td>0.0</td>\n",
              "      <td>9.0</td>\n",
              "      <td>0.0</td>\n",
              "      <td>17</td>\n",
              "      <td>3.0</td>\n",
              "      <td>2.0</td>\n",
              "      <td>36</td>\n",
              "      <td>6.0</td>\n",
              "      <td>2.0</td>\n",
              "      <td>0.0</td>\n",
              "    </tr>\n",
              "    <tr>\n",
              "      <th>26054</th>\n",
              "      <td>312</td>\n",
              "      <td>0</td>\n",
              "      <td>0.0</td>\n",
              "      <td>3</td>\n",
              "      <td>0.0</td>\n",
              "      <td>2.0</td>\n",
              "      <td>0.0</td>\n",
              "      <td>19</td>\n",
              "      <td>3.0</td>\n",
              "      <td>1.0</td>\n",
              "      <td>56</td>\n",
              "      <td>9.0</td>\n",
              "      <td>1.0</td>\n",
              "      <td>0.0</td>\n",
              "    </tr>\n",
              "    <tr>\n",
              "      <th>9125</th>\n",
              "      <td>83</td>\n",
              "      <td>0</td>\n",
              "      <td>2.0</td>\n",
              "      <td>2</td>\n",
              "      <td>1.0</td>\n",
              "      <td>1.0</td>\n",
              "      <td>0.0</td>\n",
              "      <td>5</td>\n",
              "      <td>3.0</td>\n",
              "      <td>1.0</td>\n",
              "      <td>46</td>\n",
              "      <td>6.0</td>\n",
              "      <td>1.0</td>\n",
              "      <td>0.0</td>\n",
              "    </tr>\n",
              "    <tr>\n",
              "      <th>41659</th>\n",
              "      <td>302</td>\n",
              "      <td>5</td>\n",
              "      <td>0.0</td>\n",
              "      <td>1</td>\n",
              "      <td>0.0</td>\n",
              "      <td>4.0</td>\n",
              "      <td>0.0</td>\n",
              "      <td>1</td>\n",
              "      <td>2.0</td>\n",
              "      <td>2.0</td>\n",
              "      <td>41</td>\n",
              "      <td>10.0</td>\n",
              "      <td>0.0</td>\n",
              "      <td>0.0</td>\n",
              "    </tr>\n",
              "    <tr>\n",
              "      <th>4443</th>\n",
              "      <td>90</td>\n",
              "      <td>0</td>\n",
              "      <td>2.0</td>\n",
              "      <td>1</td>\n",
              "      <td>1.0</td>\n",
              "      <td>1.0</td>\n",
              "      <td>0.0</td>\n",
              "      <td>20</td>\n",
              "      <td>3.0</td>\n",
              "      <td>1.0</td>\n",
              "      <td>38</td>\n",
              "      <td>8.0</td>\n",
              "      <td>1.0</td>\n",
              "      <td>0.0</td>\n",
              "    </tr>\n",
              "  </tbody>\n",
              "</table>\n",
              "</div>"
            ],
            "text/plain": [
              "       duration  previous  contact  campaign  ...  age  month  marital  default\n",
              "10747       153         0      2.0         4  ...   36    6.0      2.0      0.0\n",
              "26054       312         0      0.0         3  ...   56    9.0      1.0      0.0\n",
              "9125         83         0      2.0         2  ...   46    6.0      1.0      0.0\n",
              "41659       302         5      0.0         1  ...   41   10.0      0.0      0.0\n",
              "4443         90         0      2.0         1  ...   38    8.0      1.0      0.0\n",
              "\n",
              "[5 rows x 14 columns]"
            ]
          },
          "metadata": {},
          "execution_count": 43
        }
      ]
    },
    {
      "cell_type": "code",
      "metadata": {
        "id": "2XMM8QqRBN3m"
      },
      "source": [
        "#Apply on test data\n",
        "=X_train.columns.tolist())"
      ],
      "execution_count": 50,
      "outputs": []
    },
    {
      "cell_type": "code",
      "metadata": {
        "colab": {
          "base_uri": "https://localhost:8080/",
          "height": 224
        },
        "id": "QKlTa80jBi-G",
        "outputId": "e776d8f1-5c35-4a1e-8dce-521d2e0892dc"
      },
      "source": [
        "X_train_scaled.head()"
      ],
      "execution_count": 51,
      "outputs": [
        {
          "output_type": "execute_result",
          "data": {
            "text/html": [
              "<div>\n",
              "<style scoped>\n",
              "    .dataframe tbody tr th:only-of-type {\n",
              "        vertical-align: middle;\n",
              "    }\n",
              "\n",
              "    .dataframe tbody tr th {\n",
              "        vertical-align: top;\n",
              "    }\n",
              "\n",
              "    .dataframe thead th {\n",
              "        text-align: right;\n",
              "    }\n",
              "</style>\n",
              "<table border=\"1\" class=\"dataframe\">\n",
              "  <thead>\n",
              "    <tr style=\"text-align: right;\">\n",
              "      <th></th>\n",
              "      <th>duration</th>\n",
              "      <th>previous</th>\n",
              "      <th>contact</th>\n",
              "      <th>campaign</th>\n",
              "      <th>housing</th>\n",
              "      <th>job</th>\n",
              "      <th>loan</th>\n",
              "      <th>day</th>\n",
              "      <th>poutcome</th>\n",
              "      <th>education</th>\n",
              "      <th>age</th>\n",
              "      <th>month</th>\n",
              "      <th>marital</th>\n",
              "      <th>default</th>\n",
              "    </tr>\n",
              "  </thead>\n",
              "  <tbody>\n",
              "    <tr>\n",
              "      <th>0</th>\n",
              "      <td>0.031110</td>\n",
              "      <td>0.000000</td>\n",
              "      <td>1.0</td>\n",
              "      <td>0.048387</td>\n",
              "      <td>0.0</td>\n",
              "      <td>0.818182</td>\n",
              "      <td>0.0</td>\n",
              "      <td>0.533333</td>\n",
              "      <td>1.000000</td>\n",
              "      <td>0.666667</td>\n",
              "      <td>0.233766</td>\n",
              "      <td>0.545455</td>\n",
              "      <td>1.0</td>\n",
              "      <td>0.0</td>\n",
              "    </tr>\n",
              "    <tr>\n",
              "      <th>1</th>\n",
              "      <td>0.063440</td>\n",
              "      <td>0.000000</td>\n",
              "      <td>0.0</td>\n",
              "      <td>0.032258</td>\n",
              "      <td>0.0</td>\n",
              "      <td>0.181818</td>\n",
              "      <td>0.0</td>\n",
              "      <td>0.600000</td>\n",
              "      <td>1.000000</td>\n",
              "      <td>0.333333</td>\n",
              "      <td>0.493506</td>\n",
              "      <td>0.818182</td>\n",
              "      <td>0.5</td>\n",
              "      <td>0.0</td>\n",
              "    </tr>\n",
              "    <tr>\n",
              "      <th>2</th>\n",
              "      <td>0.016877</td>\n",
              "      <td>0.000000</td>\n",
              "      <td>1.0</td>\n",
              "      <td>0.016129</td>\n",
              "      <td>1.0</td>\n",
              "      <td>0.090909</td>\n",
              "      <td>0.0</td>\n",
              "      <td>0.133333</td>\n",
              "      <td>1.000000</td>\n",
              "      <td>0.333333</td>\n",
              "      <td>0.363636</td>\n",
              "      <td>0.545455</td>\n",
              "      <td>0.5</td>\n",
              "      <td>0.0</td>\n",
              "    </tr>\n",
              "    <tr>\n",
              "      <th>3</th>\n",
              "      <td>0.061407</td>\n",
              "      <td>0.018182</td>\n",
              "      <td>0.0</td>\n",
              "      <td>0.000000</td>\n",
              "      <td>0.0</td>\n",
              "      <td>0.363636</td>\n",
              "      <td>0.0</td>\n",
              "      <td>0.000000</td>\n",
              "      <td>0.666667</td>\n",
              "      <td>0.666667</td>\n",
              "      <td>0.298701</td>\n",
              "      <td>0.909091</td>\n",
              "      <td>0.0</td>\n",
              "      <td>0.0</td>\n",
              "    </tr>\n",
              "    <tr>\n",
              "      <th>4</th>\n",
              "      <td>0.018300</td>\n",
              "      <td>0.000000</td>\n",
              "      <td>1.0</td>\n",
              "      <td>0.000000</td>\n",
              "      <td>1.0</td>\n",
              "      <td>0.090909</td>\n",
              "      <td>0.0</td>\n",
              "      <td>0.633333</td>\n",
              "      <td>1.000000</td>\n",
              "      <td>0.333333</td>\n",
              "      <td>0.259740</td>\n",
              "      <td>0.727273</td>\n",
              "      <td>0.5</td>\n",
              "      <td>0.0</td>\n",
              "    </tr>\n",
              "  </tbody>\n",
              "</table>\n",
              "</div>"
            ],
            "text/plain": [
              "   duration  previous  contact  campaign  ...       age     month  marital  default\n",
              "0  0.031110  0.000000      1.0  0.048387  ...  0.233766  0.545455      1.0      0.0\n",
              "1  0.063440  0.000000      0.0  0.032258  ...  0.493506  0.818182      0.5      0.0\n",
              "2  0.016877  0.000000      1.0  0.016129  ...  0.363636  0.545455      0.5      0.0\n",
              "3  0.061407  0.018182      0.0  0.000000  ...  0.298701  0.909091      0.0      0.0\n",
              "4  0.018300  0.000000      1.0  0.000000  ...  0.259740  0.727273      0.5      0.0\n",
              "\n",
              "[5 rows x 14 columns]"
            ]
          },
          "metadata": {},
          "execution_count": 51
        }
      ]
    },
    {
      "cell_type": "code",
      "metadata": {
        "id": "RiA9sSbWBke_"
      },
      "source": [
        "sc = MinMaxScaler()"
      ],
      "execution_count": 47,
      "outputs": []
    },
    {
      "cell_type": "code",
      "metadata": {
        "id": "90FmrAaABvDV"
      },
      "source": [
        "X_test_scaled = sc.transform(X_test)"
      ],
      "execution_count": 52,
      "outputs": []
    },
    {
      "cell_type": "code",
      "metadata": {
        "id": "mfCQuMlyCBcC"
      },
      "source": [
        "#Convert to DF\n",
        "X_test_scaled = pd.DataFrame(X_test_scaled,columns=X_test.columns.tolist())"
      ],
      "execution_count": 54,
      "outputs": []
    },
    {
      "cell_type": "code",
      "metadata": {
        "colab": {
          "base_uri": "https://localhost:8080/",
          "height": 439
        },
        "id": "eGnjaq_aCGvE",
        "outputId": "11de1d49-6fad-4d14-eef5-75a8ac394d7b"
      },
      "source": [
        "X_test_scaled"
      ],
      "execution_count": 55,
      "outputs": [
        {
          "output_type": "execute_result",
          "data": {
            "text/html": [
              "<div>\n",
              "<style scoped>\n",
              "    .dataframe tbody tr th:only-of-type {\n",
              "        vertical-align: middle;\n",
              "    }\n",
              "\n",
              "    .dataframe tbody tr th {\n",
              "        vertical-align: top;\n",
              "    }\n",
              "\n",
              "    .dataframe thead th {\n",
              "        text-align: right;\n",
              "    }\n",
              "</style>\n",
              "<table border=\"1\" class=\"dataframe\">\n",
              "  <thead>\n",
              "    <tr style=\"text-align: right;\">\n",
              "      <th></th>\n",
              "      <th>duration</th>\n",
              "      <th>previous</th>\n",
              "      <th>contact</th>\n",
              "      <th>campaign</th>\n",
              "      <th>housing</th>\n",
              "      <th>job</th>\n",
              "      <th>loan</th>\n",
              "      <th>day</th>\n",
              "      <th>poutcome</th>\n",
              "      <th>education</th>\n",
              "      <th>age</th>\n",
              "      <th>month</th>\n",
              "      <th>marital</th>\n",
              "      <th>default</th>\n",
              "    </tr>\n",
              "  </thead>\n",
              "  <tbody>\n",
              "    <tr>\n",
              "      <th>0</th>\n",
              "      <td>0.039040</td>\n",
              "      <td>0.000000</td>\n",
              "      <td>1.0</td>\n",
              "      <td>0.000000</td>\n",
              "      <td>1.0</td>\n",
              "      <td>0.090909</td>\n",
              "      <td>0.0</td>\n",
              "      <td>0.500000</td>\n",
              "      <td>1.0</td>\n",
              "      <td>0.333333</td>\n",
              "      <td>0.285714</td>\n",
              "      <td>0.727273</td>\n",
              "      <td>0.5</td>\n",
              "      <td>0.0</td>\n",
              "    </tr>\n",
              "    <tr>\n",
              "      <th>1</th>\n",
              "      <td>0.016877</td>\n",
              "      <td>0.000000</td>\n",
              "      <td>1.0</td>\n",
              "      <td>0.016129</td>\n",
              "      <td>0.0</td>\n",
              "      <td>0.636364</td>\n",
              "      <td>0.0</td>\n",
              "      <td>0.266667</td>\n",
              "      <td>1.0</td>\n",
              "      <td>0.333333</td>\n",
              "      <td>0.376623</td>\n",
              "      <td>0.545455</td>\n",
              "      <td>1.0</td>\n",
              "      <td>0.0</td>\n",
              "    </tr>\n",
              "    <tr>\n",
              "      <th>2</th>\n",
              "      <td>0.045954</td>\n",
              "      <td>0.000000</td>\n",
              "      <td>0.0</td>\n",
              "      <td>0.000000</td>\n",
              "      <td>1.0</td>\n",
              "      <td>0.727273</td>\n",
              "      <td>0.0</td>\n",
              "      <td>0.633333</td>\n",
              "      <td>1.0</td>\n",
              "      <td>0.666667</td>\n",
              "      <td>0.090909</td>\n",
              "      <td>0.000000</td>\n",
              "      <td>1.0</td>\n",
              "      <td>0.0</td>\n",
              "    </tr>\n",
              "    <tr>\n",
              "      <th>3</th>\n",
              "      <td>0.063237</td>\n",
              "      <td>0.003636</td>\n",
              "      <td>0.0</td>\n",
              "      <td>0.000000</td>\n",
              "      <td>0.0</td>\n",
              "      <td>0.363636</td>\n",
              "      <td>0.0</td>\n",
              "      <td>0.266667</td>\n",
              "      <td>0.0</td>\n",
              "      <td>0.666667</td>\n",
              "      <td>0.311688</td>\n",
              "      <td>0.000000</td>\n",
              "      <td>0.5</td>\n",
              "      <td>0.0</td>\n",
              "    </tr>\n",
              "    <tr>\n",
              "      <th>4</th>\n",
              "      <td>0.024603</td>\n",
              "      <td>0.000000</td>\n",
              "      <td>0.0</td>\n",
              "      <td>0.016129</td>\n",
              "      <td>0.0</td>\n",
              "      <td>0.363636</td>\n",
              "      <td>1.0</td>\n",
              "      <td>0.666667</td>\n",
              "      <td>1.0</td>\n",
              "      <td>0.666667</td>\n",
              "      <td>0.493506</td>\n",
              "      <td>0.454545</td>\n",
              "      <td>0.5</td>\n",
              "      <td>0.0</td>\n",
              "    </tr>\n",
              "    <tr>\n",
              "      <th>...</th>\n",
              "      <td>...</td>\n",
              "      <td>...</td>\n",
              "      <td>...</td>\n",
              "      <td>...</td>\n",
              "      <td>...</td>\n",
              "      <td>...</td>\n",
              "      <td>...</td>\n",
              "      <td>...</td>\n",
              "      <td>...</td>\n",
              "      <td>...</td>\n",
              "      <td>...</td>\n",
              "      <td>...</td>\n",
              "      <td>...</td>\n",
              "      <td>...</td>\n",
              "    </tr>\n",
              "    <tr>\n",
              "      <th>13559</th>\n",
              "      <td>0.009557</td>\n",
              "      <td>0.000000</td>\n",
              "      <td>1.0</td>\n",
              "      <td>0.000000</td>\n",
              "      <td>0.0</td>\n",
              "      <td>0.818182</td>\n",
              "      <td>0.0</td>\n",
              "      <td>0.133333</td>\n",
              "      <td>1.0</td>\n",
              "      <td>0.666667</td>\n",
              "      <td>0.363636</td>\n",
              "      <td>0.545455</td>\n",
              "      <td>1.0</td>\n",
              "      <td>0.0</td>\n",
              "    </tr>\n",
              "    <tr>\n",
              "      <th>13560</th>\n",
              "      <td>0.027044</td>\n",
              "      <td>0.000000</td>\n",
              "      <td>1.0</td>\n",
              "      <td>0.000000</td>\n",
              "      <td>1.0</td>\n",
              "      <td>0.090909</td>\n",
              "      <td>0.0</td>\n",
              "      <td>0.166667</td>\n",
              "      <td>1.0</td>\n",
              "      <td>0.333333</td>\n",
              "      <td>0.259740</td>\n",
              "      <td>0.727273</td>\n",
              "      <td>0.5</td>\n",
              "      <td>0.0</td>\n",
              "    </tr>\n",
              "    <tr>\n",
              "      <th>13561</th>\n",
              "      <td>0.060594</td>\n",
              "      <td>0.000000</td>\n",
              "      <td>1.0</td>\n",
              "      <td>0.032258</td>\n",
              "      <td>0.0</td>\n",
              "      <td>0.000000</td>\n",
              "      <td>0.0</td>\n",
              "      <td>0.966667</td>\n",
              "      <td>1.0</td>\n",
              "      <td>0.333333</td>\n",
              "      <td>0.298701</td>\n",
              "      <td>0.727273</td>\n",
              "      <td>0.5</td>\n",
              "      <td>0.0</td>\n",
              "    </tr>\n",
              "    <tr>\n",
              "      <th>13562</th>\n",
              "      <td>0.005693</td>\n",
              "      <td>0.000000</td>\n",
              "      <td>1.0</td>\n",
              "      <td>0.048387</td>\n",
              "      <td>0.0</td>\n",
              "      <td>0.727273</td>\n",
              "      <td>0.0</td>\n",
              "      <td>0.633333</td>\n",
              "      <td>1.0</td>\n",
              "      <td>0.333333</td>\n",
              "      <td>0.298701</td>\n",
              "      <td>0.545455</td>\n",
              "      <td>0.5</td>\n",
              "      <td>0.0</td>\n",
              "    </tr>\n",
              "    <tr>\n",
              "      <th>13563</th>\n",
              "      <td>0.093941</td>\n",
              "      <td>0.018182</td>\n",
              "      <td>0.0</td>\n",
              "      <td>0.016129</td>\n",
              "      <td>1.0</td>\n",
              "      <td>0.363636</td>\n",
              "      <td>0.0</td>\n",
              "      <td>0.933333</td>\n",
              "      <td>0.0</td>\n",
              "      <td>0.666667</td>\n",
              "      <td>0.506494</td>\n",
              "      <td>0.363636</td>\n",
              "      <td>0.0</td>\n",
              "      <td>0.0</td>\n",
              "    </tr>\n",
              "  </tbody>\n",
              "</table>\n",
              "<p>13564 rows × 14 columns</p>\n",
              "</div>"
            ],
            "text/plain": [
              "       duration  previous  contact  ...     month  marital  default\n",
              "0      0.039040  0.000000      1.0  ...  0.727273      0.5      0.0\n",
              "1      0.016877  0.000000      1.0  ...  0.545455      1.0      0.0\n",
              "2      0.045954  0.000000      0.0  ...  0.000000      1.0      0.0\n",
              "3      0.063237  0.003636      0.0  ...  0.000000      0.5      0.0\n",
              "4      0.024603  0.000000      0.0  ...  0.454545      0.5      0.0\n",
              "...         ...       ...      ...  ...       ...      ...      ...\n",
              "13559  0.009557  0.000000      1.0  ...  0.545455      1.0      0.0\n",
              "13560  0.027044  0.000000      1.0  ...  0.727273      0.5      0.0\n",
              "13561  0.060594  0.000000      1.0  ...  0.727273      0.5      0.0\n",
              "13562  0.005693  0.000000      1.0  ...  0.545455      0.5      0.0\n",
              "13563  0.093941  0.018182      0.0  ...  0.363636      0.0      0.0\n",
              "\n",
              "[13564 rows x 14 columns]"
            ]
          },
          "metadata": {},
          "execution_count": 55
        }
      ]
    },
    {
      "cell_type": "code",
      "metadata": {
        "colab": {
          "base_uri": "https://localhost:8080/"
        },
        "id": "tWQSK36pCMZq",
        "outputId": "fc22fcf1-c4c4-4a6b-c2d0-cec2b4fa9cf8"
      },
      "source": [
        "X_train_scaled.shape"
      ],
      "execution_count": 56,
      "outputs": [
        {
          "output_type": "execute_result",
          "data": {
            "text/plain": [
              "(31647, 14)"
            ]
          },
          "metadata": {},
          "execution_count": 56
        }
      ]
    },
    {
      "cell_type": "code",
      "metadata": {
        "colab": {
          "base_uri": "https://localhost:8080/"
        },
        "id": "rfDBIJC0KFxL",
        "outputId": "b34bc57b-4729-436d-848b-0596bb4524ac"
      },
      "source": [
        "y_train.unique()"
      ],
      "execution_count": 57,
      "outputs": [
        {
          "output_type": "execute_result",
          "data": {
            "text/plain": [
              "array([0, 1])"
            ]
          },
          "metadata": {},
          "execution_count": 57
        }
      ]
    },
    {
      "cell_type": "code",
      "metadata": {
        "id": "63_BE2QTJpWV"
      },
      "source": [
        "input_dim = 14\n",
        "output_dim =1"
      ],
      "execution_count": 64,
      "outputs": []
    },
    {
      "cell_type": "code",
      "metadata": {
        "id": "ViTCNbJ6KeSu"
      },
      "source": [
        "#Model building\n",
        "from tensorflow.keras import Sequential\n",
        "from tensorflow.keras.layers import Dense, Dropout\n",
        "from tensorflow.keras.utils import plot_model"
      ],
      "execution_count": 94,
      "outputs": []
    },
    {
      "cell_type": "code",
      "metadata": {
        "id": "G9LY7yPsK7Pv"
      },
      "source": [
        "#Define model\n",
        "model = Sequential()\n",
        "model.add(Dense(20,activation='relu', kernel_initializer='he_normal',input_shape=(input_dim,)))\n",
        "model.add(Dense(16,activation='relu', kernel_initializer='he_normal'))\n",
        "model.add(Dense(output_dim,activation='softmax'))"
      ],
      "execution_count": 67,
      "outputs": []
    },
    {
      "cell_type": "code",
      "metadata": {
        "id": "MRDBXqEeLqsA"
      },
      "source": [
        "def get_hidden_layers_neurons(sample_size,num_input,num_output,alpha=2):\n",
        "    num_hidden_layers = sample_size/(alpha*(num_input+num_output))\n",
        "    return num_hidden_layers"
      ],
      "execution_count": 61,
      "outputs": []
    },
    {
      "cell_type": "code",
      "metadata": {
        "colab": {
          "base_uri": "https://localhost:8080/"
        },
        "id": "nO8pJQ05M2iE",
        "outputId": "a0a8b960-4e9d-43f0-ae58-1bc1d0b18bd8"
      },
      "source": [
        "#Example for Iris\n",
        "get_hidden_layers_neurons(150,4,3)"
      ],
      "execution_count": 68,
      "outputs": [
        {
          "output_type": "execute_result",
          "data": {
            "text/plain": [
              "10.714285714285714"
            ]
          },
          "metadata": {},
          "execution_count": 68
        }
      ]
    },
    {
      "cell_type": "code",
      "metadata": {
        "id": "Fp27AHDlKIBI"
      },
      "source": [
        "#Model compile\n",
        "model.compile(optimizer='adam', loss='binary_crossentropy', metrics=['accuracy'])"
      ],
      "execution_count": 69,
      "outputs": []
    },
    {
      "cell_type": "code",
      "metadata": {
        "colab": {
          "base_uri": "https://localhost:8080/"
        },
        "id": "yJMP4e3hNEnx",
        "outputId": "57d1c41c-9d12-45c9-cc4d-c6a165208b3d"
      },
      "source": [
        "model.summary()"
      ],
      "execution_count": 70,
      "outputs": [
        {
          "output_type": "stream",
          "name": "stdout",
          "text": [
            "Model: \"sequential_4\"\n",
            "_________________________________________________________________\n",
            "Layer (type)                 Output Shape              Param #   \n",
            "=================================================================\n",
            "dense_6 (Dense)              (None, 20)                300       \n",
            "_________________________________________________________________\n",
            "dense_7 (Dense)              (None, 16)                336       \n",
            "_________________________________________________________________\n",
            "dense_8 (Dense)              (None, 1)                 17        \n",
            "=================================================================\n",
            "Total params: 653\n",
            "Trainable params: 653\n",
            "Non-trainable params: 0\n",
            "_________________________________________________________________\n"
          ]
        }
      ]
    },
    {
      "cell_type": "code",
      "metadata": {
        "colab": {
          "base_uri": "https://localhost:8080/",
          "height": 422
        },
        "id": "AwP8CT4sNG9i",
        "outputId": "f622ba65-2468-4606-eb67-d56de2cb0b30"
      },
      "source": [
        "#Visualize model\n",
        "plot_model(model, to_file='bank_term_prediction_model.png', show_shapes=True)"
      ],
      "execution_count": 71,
      "outputs": [
        {
          "output_type": "execute_result",
          "data": {
            "image/png": "[encoded data removed]",
            "text/plain": [
              "<IPython.core.display.Image object>"
            ]
          },
          "metadata": {},
          "execution_count": 71
        }
      ]
    },
    {
      "cell_type": "code",
      "metadata": {
        "colab": {
          "base_uri": "https://localhost:8080/"
        },
        "id": "aHiWwzZ6NPB1",
        "outputId": "200d4a2b-a4bb-4909-a928-d1c81f7edb5d"
      },
      "source": [
        "#Model fit\n",
        "model.fit(X_train_scaled, y_train,epochs=50,batch_size=32,verbose=2)"
      ],
      "execution_count": 74,
      "outputs": [
        {
          "output_type": "stream",
          "name": "stdout",
          "text": [
            "Epoch 1/50\n",
            "989/989 - 1s - loss: 0.2457 - accuracy: 0.1166\n",
            "Epoch 2/50\n",
            "989/989 - 1s - loss: 0.2431 - accuracy: 0.1166\n",
            "Epoch 3/50\n",
            "989/989 - 1s - loss: 0.2410 - accuracy: 0.1166\n",
            "Epoch 4/50\n",
            "989/989 - 1s - loss: 0.2398 - accuracy: 0.1166\n",
            "Epoch 5/50\n",
            "989/989 - 1s - loss: 0.2384 - accuracy: 0.1166\n",
            "Epoch 6/50\n",
            "989/989 - 1s - loss: 0.2380 - accuracy: 0.1166\n",
            "Epoch 7/50\n",
            "989/989 - 1s - loss: 0.2369 - accuracy: 0.1166\n",
            "Epoch 8/50\n",
            "989/989 - 1s - loss: 0.2358 - accuracy: 0.1166\n",
            "Epoch 9/50\n",
            "989/989 - 1s - loss: 0.2356 - accuracy: 0.1166\n",
            "Epoch 10/50\n",
            "989/989 - 1s - loss: 0.2350 - accuracy: 0.1166\n",
            "Epoch 11/50\n",
            "989/989 - 1s - loss: 0.2342 - accuracy: 0.1166\n",
            "Epoch 12/50\n",
            "989/989 - 1s - loss: 0.2339 - accuracy: 0.1166\n",
            "Epoch 13/50\n",
            "989/989 - 1s - loss: 0.2329 - accuracy: 0.1166\n",
            "Epoch 14/50\n",
            "989/989 - 1s - loss: 0.2325 - accuracy: 0.1166\n",
            "Epoch 15/50\n",
            "989/989 - 1s - loss: 0.2322 - accuracy: 0.1166\n",
            "Epoch 16/50\n",
            "989/989 - 1s - loss: 0.2319 - accuracy: 0.1166\n",
            "Epoch 17/50\n",
            "989/989 - 1s - loss: 0.2308 - accuracy: 0.1166\n",
            "Epoch 18/50\n",
            "989/989 - 1s - loss: 0.2304 - accuracy: 0.1166\n",
            "Epoch 19/50\n",
            "989/989 - 1s - loss: 0.2293 - accuracy: 0.1166\n",
            "Epoch 20/50\n",
            "989/989 - 1s - loss: 0.2285 - accuracy: 0.1166\n",
            "Epoch 21/50\n",
            "989/989 - 1s - loss: 0.2281 - accuracy: 0.1166\n",
            "Epoch 22/50\n",
            "989/989 - 1s - loss: 0.2274 - accuracy: 0.1166\n",
            "Epoch 23/50\n",
            "989/989 - 1s - loss: 0.2269 - accuracy: 0.1166\n",
            "Epoch 24/50\n",
            "989/989 - 1s - loss: 0.2263 - accuracy: 0.1166\n",
            "Epoch 25/50\n",
            "989/989 - 1s - loss: 0.2264 - accuracy: 0.1166\n",
            "Epoch 26/50\n",
            "989/989 - 1s - loss: 0.2257 - accuracy: 0.1166\n",
            "Epoch 27/50\n",
            "989/989 - 1s - loss: 0.2253 - accuracy: 0.1166\n",
            "Epoch 28/50\n",
            "989/989 - 1s - loss: 0.2244 - accuracy: 0.1166\n",
            "Epoch 29/50\n",
            "989/989 - 1s - loss: 0.2240 - accuracy: 0.1166\n",
            "Epoch 30/50\n",
            "989/989 - 1s - loss: 0.2244 - accuracy: 0.1166\n",
            "Epoch 31/50\n",
            "989/989 - 1s - loss: 0.2238 - accuracy: 0.1166\n",
            "Epoch 32/50\n",
            "989/989 - 1s - loss: 0.2238 - accuracy: 0.1166\n",
            "Epoch 33/50\n",
            "989/989 - 1s - loss: 0.2234 - accuracy: 0.1166\n",
            "Epoch 34/50\n",
            "989/989 - 1s - loss: 0.2232 - accuracy: 0.1166\n",
            "Epoch 35/50\n",
            "989/989 - 1s - loss: 0.2234 - accuracy: 0.1166\n",
            "Epoch 36/50\n",
            "989/989 - 1s - loss: 0.2223 - accuracy: 0.1166\n",
            "Epoch 37/50\n",
            "989/989 - 1s - loss: 0.2223 - accuracy: 0.1166\n",
            "Epoch 38/50\n",
            "989/989 - 1s - loss: 0.2224 - accuracy: 0.1166\n",
            "Epoch 39/50\n",
            "989/989 - 1s - loss: 0.2223 - accuracy: 0.1166\n",
            "Epoch 40/50\n",
            "989/989 - 1s - loss: 0.2220 - accuracy: 0.1166\n",
            "Epoch 41/50\n",
            "989/989 - 1s - loss: 0.2218 - accuracy: 0.1166\n",
            "Epoch 42/50\n",
            "989/989 - 1s - loss: 0.2216 - accuracy: 0.1166\n",
            "Epoch 43/50\n",
            "989/989 - 1s - loss: 0.2216 - accuracy: 0.1166\n",
            "Epoch 44/50\n",
            "989/989 - 1s - loss: 0.2211 - accuracy: 0.1166\n",
            "Epoch 45/50\n",
            "989/989 - 1s - loss: 0.2211 - accuracy: 0.1166\n",
            "Epoch 46/50\n",
            "989/989 - 1s - loss: 0.2211 - accuracy: 0.1166\n",
            "Epoch 47/50\n",
            "989/989 - 1s - loss: 0.2209 - accuracy: 0.1166\n",
            "Epoch 48/50\n",
            "989/989 - 1s - loss: 0.2212 - accuracy: 0.1166\n",
            "Epoch 49/50\n",
            "989/989 - 1s - loss: 0.2205 - accuracy: 0.1166\n",
            "Epoch 50/50\n",
            "989/989 - 1s - loss: 0.2206 - accuracy: 0.1166\n"
          ]
        },
        {
          "output_type": "execute_result",
          "data": {
            "text/plain": [
              "<keras.callbacks.History at 0x7f52bf8cd950>"
            ]
          },
          "metadata": {},
          "execution_count": 74
        }
      ]
    },
    {
      "cell_type": "code",
      "metadata": {
        "id": "DroQWHdvNm1y"
      },
      "source": [
        "#Evaluate model\n",
        "loss,acc = model.evaluate(X_test_scaled, y_test,verbose=0)"
      ],
      "execution_count": 75,
      "outputs": []
    },
    {
      "cell_type": "code",
      "metadata": {
        "colab": {
          "base_uri": "https://localhost:8080/"
        },
        "id": "tIpHgIyUN5iQ",
        "outputId": "253ba536-b482-4cae-9ef4-e67d08f57549"
      },
      "source": [
        "#Check for accuracy\n",
        "acc"
      ],
      "execution_count": 76,
      "outputs": [
        {
          "output_type": "execute_result",
          "data": {
            "text/plain": [
              "0.11781185120344162"
            ]
          },
          "metadata": {},
          "execution_count": 76
        }
      ]
    },
    {
      "cell_type": "code",
      "metadata": {
        "colab": {
          "base_uri": "https://localhost:8080/"
        },
        "id": "2ggck2j6N_h6",
        "outputId": "9d167ee6-b647-43ea-afd5-e9b764729cb9"
      },
      "source": [
        "#Check for loss\n",
        "loss"
      ],
      "execution_count": 77,
      "outputs": [
        {
          "output_type": "execute_result",
          "data": {
            "text/plain": [
              "0.23390193283557892"
            ]
          },
          "metadata": {},
          "execution_count": 77
        }
      ]
    },
    {
      "cell_type": "code",
      "metadata": {
        "colab": {
          "base_uri": "https://localhost:8080/"
        },
        "id": "PjWP8j0AOBTx",
        "outputId": "3d945252-f639-4192-bc91-c7f7d9f19fb3"
      },
      "source": [
        "#Make prediction\n",
        "ex1 = X_test_scaled.iloc[0]\n",
        "print(ex1)"
      ],
      "execution_count": 79,
      "outputs": [
        {
          "output_type": "stream",
          "name": "stdout",
          "text": [
            "duration     0.039040\n",
            "previous     0.000000\n",
            "contact      1.000000\n",
            "campaign     0.000000\n",
            "housing      1.000000\n",
            "job          0.090909\n",
            "loan         0.000000\n",
            "day          0.500000\n",
            "poutcome     1.000000\n",
            "education    0.333333\n",
            "age          0.285714\n",
            "month        0.727273\n",
            "marital      0.500000\n",
            "default      0.000000\n",
            "Name: 0, dtype: float64\n"
          ]
        }
      ]
    },
    {
      "cell_type": "code",
      "metadata": {
        "colab": {
          "base_uri": "https://localhost:8080/"
        },
        "id": "LszCQVosOKAr",
        "outputId": "029a0c20-8391-457b-c41e-5e709175e6d9"
      },
      "source": [
        "#Expected value\n",
        "y_test.iloc[0]"
      ],
      "execution_count": 80,
      "outputs": [
        {
          "output_type": "execute_result",
          "data": {
            "text/plain": [
              "0"
            ]
          },
          "metadata": {},
          "execution_count": 80
        }
      ]
    },
    {
      "cell_type": "code",
      "metadata": {
        "id": "_HvzKNu3OLo5"
      },
      "source": [
        "#Predict\n",
        "#Reshape dataset\n",
        "sample1 = np.array(ex1).reshape(1,-1)"
      ],
      "execution_count": 81,
      "outputs": []
    },
    {
      "cell_type": "code",
      "metadata": {
        "colab": {
          "base_uri": "https://localhost:8080/"
        },
        "id": "fHDYYXjiOQcX",
        "outputId": "0e8cce24-0ecb-4c87-d75f-fb7551305bce"
      },
      "source": [
        "sample1"
      ],
      "execution_count": 82,
      "outputs": [
        {
          "output_type": "execute_result",
          "data": {
            "text/plain": [
              "array([[0.03904026, 0.        , 1.        , 0.        , 1.        ,\n",
              "        0.09090909, 0.        , 0.5       , 1.        , 0.33333333,\n",
              "        0.28571429, 0.72727273, 0.5       , 0.        ]])"
            ]
          },
          "metadata": {},
          "execution_count": 82
        }
      ]
    },
    {
      "cell_type": "code",
      "metadata": {
        "id": "YxQzlBu2OQ6L"
      },
      "source": [
        "#Probabilities\n",
        "probabilities = model.predict(sample1)"
      ],
      "execution_count": 83,
      "outputs": []
    },
    {
      "cell_type": "code",
      "metadata": {
        "colab": {
          "base_uri": "https://localhost:8080/"
        },
        "id": "iT0KQ4dmOayB",
        "outputId": "0291ff1c-d698-4cc0-9bcd-1d525cbc91e7"
      },
      "source": [
        "probabilities"
      ],
      "execution_count": 84,
      "outputs": [
        {
          "output_type": "execute_result",
          "data": {
            "text/plain": [
              "array([[1.]], dtype=float32)"
            ]
          },
          "metadata": {},
          "execution_count": 84
        }
      ]
    },
    {
      "cell_type": "code",
      "metadata": {
        "colab": {
          "base_uri": "https://localhost:8080/"
        },
        "id": "Bh1bOXDWOgCX",
        "outputId": "c67ab4f4-337b-4af8-d769-6f8500b8ac44"
      },
      "source": [
        "#Actual prediction\n",
        "np.argmax(probabilities)"
      ],
      "execution_count": 85,
      "outputs": [
        {
          "output_type": "execute_result",
          "data": {
            "text/plain": [
              "0"
            ]
          },
          "metadata": {},
          "execution_count": 85
        }
      ]
    },
    {
      "cell_type": "code",
      "metadata": {
        "id": "0CIigN6YOk0o"
      },
      "source": [
        "#Save Model\n",
        "model.save('bank_term_predictor_model_3_oct_2021.h5')"
      ],
      "execution_count": 86,
      "outputs": []
    },
    {
      "cell_type": "code",
      "metadata": {
        "id": "VfwXiW_iOseE"
      },
      "source": [
        "#Load Model\n",
        "from tensorflow.keras.models import load_model"
      ],
      "execution_count": 87,
      "outputs": []
    },
    {
      "cell_type": "code",
      "metadata": {
        "id": "Y_W_821sOz1O"
      },
      "source": [
        "new_model = load_model('bank_term_predictor_model_3_oct_2021.h5')"
      ],
      "execution_count": 88,
      "outputs": []
    },
    {
      "cell_type": "code",
      "metadata": {
        "colab": {
          "base_uri": "https://localhost:8080/"
        },
        "id": "H_wi5RKLO9mo",
        "outputId": "91e6d5d9-b32f-494b-ebdd-83b91e661bae"
      },
      "source": [
        "# Summary of model\n",
        "new_model.summary()"
      ],
      "execution_count": 89,
      "outputs": [
        {
          "output_type": "stream",
          "name": "stdout",
          "text": [
            "Model: \"sequential_4\"\n",
            "_________________________________________________________________\n",
            "Layer (type)                 Output Shape              Param #   \n",
            "=================================================================\n",
            "dense_6 (Dense)              (None, 20)                300       \n",
            "_________________________________________________________________\n",
            "dense_7 (Dense)              (None, 16)                336       \n",
            "_________________________________________________________________\n",
            "dense_8 (Dense)              (None, 1)                 17        \n",
            "=================================================================\n",
            "Total params: 653\n",
            "Trainable params: 653\n",
            "Non-trainable params: 0\n",
            "_________________________________________________________________\n"
          ]
        }
      ]
    },
    {
      "cell_type": "code",
      "metadata": {
        "id": "1D_WiybpO-jv"
      },
      "source": [
        "#Visualize Training & Loss Curve"
      ],
      "execution_count": 90,
      "outputs": []
    },
    {
      "cell_type": "code",
      "metadata": {
        "id": "7T7e-ISfPGbu"
      },
      "source": [
        "history = model.fit(Xselected, ylabels,epochs=20,batch_size=32,verbose=0,validation_split=.3)"
      ],
      "execution_count": 91,
      "outputs": []
    },
    {
      "cell_type": "code",
      "metadata": {
        "colab": {
          "base_uri": "https://localhost:8080/"
        },
        "id": "SWxk5eePPOVy",
        "outputId": "bad24213-35dc-4a39-bff0-dd2fda51c7c3"
      },
      "source": [
        "#Plot it\n",
        "history.history['loss']"
      ],
      "execution_count": 92,
      "outputs": [
        {
          "output_type": "execute_result",
          "data": {
            "text/plain": [
              "[1.444341778755188,\n",
              " 0.491664856672287,\n",
              " 0.3813607692718506,\n",
              " 0.3871009647846222,\n",
              " 0.33583593368530273,\n",
              " 0.38079193234443665,\n",
              " 0.3688296973705292,\n",
              " 0.418958842754364,\n",
              " 0.33662280440330505,\n",
              " 0.404371052980423,\n",
              " 0.37777063250541687,\n",
              " 0.3797856271266937,\n",
              " 0.3715173602104187,\n",
              " 0.3547486662864685,\n",
              " 0.34441012144088745,\n",
              " 0.4130716621875763,\n",
              " 0.35044917464256287,\n",
              " 0.3974570333957672,\n",
              " 0.4236021935939789,\n",
              " 0.3622688949108124]"
            ]
          },
          "metadata": {},
          "execution_count": 92
        }
      ]
    },
    {
      "cell_type": "code",
      "metadata": {
        "colab": {
          "base_uri": "https://localhost:8080/",
          "height": 295
        },
        "id": "w7N1sLcfSryz",
        "outputId": "41abaf25-f53e-4ef3-eb9e-c5ac643a3ae0"
      },
      "source": [
        "plt.title(\"learning curve\")\n",
        "plt.xlabel('Epochs')\n",
        "plt.ylabel('Cross entropy')\n",
        "plt.plot(history.history['loss'],label='train')\n",
        "plt.plot(history.history['val_loss'],label='val_loss')\n",
        "plt.legend()\n",
        "plt.show()"
      ],
      "execution_count": 93,
      "outputs": [
        {
          "output_type": "display_data",
          "data": {
            "image/png": "[encoded data removed]",
            "text/plain": [
              "<Figure size 432x288 with 1 Axes>"
            ]
          },
          "metadata": {
            "needs_background": "light"
          }
        }
      ]
    },
    {
      "cell_type": "code",
      "metadata": {
        "colab": {
          "base_uri": "https://localhost:8080/"
        },
        "id": "ID3n2-U7S7t_",
        "outputId": "5acb294f-0629-420d-d210-6d32e9cb50bb"
      },
      "source": [
        "#using Droput on Visible Input Layer\n",
        "model2 = Sequential()\n",
        "model2.add(Dropout(0.2, input_shape=(input_dim,)))\n",
        "model2.add(Dense(20,activation='relu', kernel_initializer='he_normal',input_shape=(input_dim,)))\n",
        "model2.add(Dense(16,activation='relu', kernel_initializer='he_normal'))\n",
        "model2.add(Dense(output_dim,activation='softmax'))\n",
        "\n",
        "model2.compile(optimizer='adam',loss='binary_crossentropy',metrics=['accuracy'])\n",
        "\n",
        "model2.fit(X_train_scaled,y_train,epochs=50,batch_size=32,verbose=2)"
      ],
      "execution_count": 96,
      "outputs": [
        {
          "output_type": "stream",
          "name": "stdout",
          "text": [
            "Epoch 1/50\n",
            "989/989 - 2s - loss: 0.3578 - accuracy: 0.1166\n",
            "Epoch 2/50\n",
            "989/989 - 1s - loss: 0.3090 - accuracy: 0.1166\n",
            "Epoch 3/50\n",
            "989/989 - 1s - loss: 0.2962 - accuracy: 0.1166\n",
            "Epoch 4/50\n",
            "989/989 - 1s - loss: 0.2895 - accuracy: 0.1166\n",
            "Epoch 5/50\n",
            "989/989 - 1s - loss: 0.2883 - accuracy: 0.1166\n",
            "Epoch 6/50\n",
            "989/989 - 1s - loss: 0.2844 - accuracy: 0.1166\n",
            "Epoch 7/50\n",
            "989/989 - 1s - loss: 0.2868 - accuracy: 0.1166\n",
            "Epoch 8/50\n",
            "989/989 - 1s - loss: 0.2852 - accuracy: 0.1166\n",
            "Epoch 9/50\n",
            "989/989 - 1s - loss: 0.2806 - accuracy: 0.1166\n",
            "Epoch 10/50\n",
            "989/989 - 1s - loss: 0.2824 - accuracy: 0.1166\n",
            "Epoch 11/50\n",
            "989/989 - 1s - loss: 0.2818 - accuracy: 0.1166\n",
            "Epoch 12/50\n",
            "989/989 - 1s - loss: 0.2804 - accuracy: 0.1166\n",
            "Epoch 13/50\n",
            "989/989 - 1s - loss: 0.2811 - accuracy: 0.1166\n",
            "Epoch 14/50\n",
            "989/989 - 1s - loss: 0.2819 - accuracy: 0.1166\n",
            "Epoch 15/50\n",
            "989/989 - 1s - loss: 0.2781 - accuracy: 0.1166\n",
            "Epoch 16/50\n",
            "989/989 - 1s - loss: 0.2807 - accuracy: 0.1166\n",
            "Epoch 17/50\n",
            "989/989 - 1s - loss: 0.2780 - accuracy: 0.1166\n",
            "Epoch 18/50\n",
            "989/989 - 1s - loss: 0.2759 - accuracy: 0.1166\n",
            "Epoch 19/50\n",
            "989/989 - 1s - loss: 0.2780 - accuracy: 0.1166\n",
            "Epoch 20/50\n",
            "989/989 - 1s - loss: 0.2755 - accuracy: 0.1166\n",
            "Epoch 21/50\n",
            "989/989 - 1s - loss: 0.2777 - accuracy: 0.1166\n",
            "Epoch 22/50\n",
            "989/989 - 1s - loss: 0.2759 - accuracy: 0.1166\n",
            "Epoch 23/50\n",
            "989/989 - 1s - loss: 0.2775 - accuracy: 0.1166\n",
            "Epoch 24/50\n",
            "989/989 - 1s - loss: 0.2740 - accuracy: 0.1166\n",
            "Epoch 25/50\n",
            "989/989 - 1s - loss: 0.2760 - accuracy: 0.1166\n",
            "Epoch 26/50\n",
            "989/989 - 1s - loss: 0.2753 - accuracy: 0.1166\n",
            "Epoch 27/50\n",
            "989/989 - 1s - loss: 0.2789 - accuracy: 0.1166\n",
            "Epoch 28/50\n",
            "989/989 - 1s - loss: 0.2754 - accuracy: 0.1166\n",
            "Epoch 29/50\n",
            "989/989 - 1s - loss: 0.2724 - accuracy: 0.1166\n",
            "Epoch 30/50\n",
            "989/989 - 1s - loss: 0.2738 - accuracy: 0.1166\n",
            "Epoch 31/50\n",
            "989/989 - 1s - loss: 0.2767 - accuracy: 0.1166\n",
            "Epoch 32/50\n",
            "989/989 - 1s - loss: 0.2725 - accuracy: 0.1166\n",
            "Epoch 33/50\n",
            "989/989 - 1s - loss: 0.2728 - accuracy: 0.1166\n",
            "Epoch 34/50\n",
            "989/989 - 1s - loss: 0.2716 - accuracy: 0.1166\n",
            "Epoch 35/50\n",
            "989/989 - 1s - loss: 0.2728 - accuracy: 0.1166\n",
            "Epoch 36/50\n",
            "989/989 - 1s - loss: 0.2721 - accuracy: 0.1166\n",
            "Epoch 37/50\n",
            "989/989 - 1s - loss: 0.2716 - accuracy: 0.1166\n",
            "Epoch 38/50\n",
            "989/989 - 1s - loss: 0.2730 - accuracy: 0.1166\n",
            "Epoch 39/50\n",
            "989/989 - 1s - loss: 0.2696 - accuracy: 0.1166\n",
            "Epoch 40/50\n",
            "989/989 - 1s - loss: 0.2721 - accuracy: 0.1166\n",
            "Epoch 41/50\n",
            "989/989 - 1s - loss: 0.2706 - accuracy: 0.1166\n",
            "Epoch 42/50\n",
            "989/989 - 1s - loss: 0.2745 - accuracy: 0.1166\n",
            "Epoch 43/50\n",
            "989/989 - 1s - loss: 0.2716 - accuracy: 0.1166\n",
            "Epoch 44/50\n",
            "989/989 - 1s - loss: 0.2712 - accuracy: 0.1166\n",
            "Epoch 45/50\n",
            "989/989 - 1s - loss: 0.2703 - accuracy: 0.1166\n",
            "Epoch 46/50\n",
            "989/989 - 1s - loss: 0.2697 - accuracy: 0.1166\n",
            "Epoch 47/50\n",
            "989/989 - 1s - loss: 0.2665 - accuracy: 0.1166\n",
            "Epoch 48/50\n",
            "989/989 - 1s - loss: 0.2717 - accuracy: 0.1166\n",
            "Epoch 49/50\n",
            "989/989 - 1s - loss: 0.2721 - accuracy: 0.1166\n",
            "Epoch 50/50\n",
            "989/989 - 1s - loss: 0.2704 - accuracy: 0.1166\n"
          ]
        },
        {
          "output_type": "execute_result",
          "data": {
            "text/plain": [
              "<keras.callbacks.History at 0x7f5317655b10>"
            ]
          },
          "metadata": {},
          "execution_count": 96
        }
      ]
    },
    {
      "cell_type": "code",
      "metadata": {
        "id": "8jV4m5HaTk0A"
      },
      "source": [
        "#Evaluate\n",
        "loss2,acc2 = model2.evaluate(X_test_scaled,y_test,verbose=0)"
      ],
      "execution_count": 97,
      "outputs": []
    },
    {
      "cell_type": "code",
      "metadata": {
        "colab": {
          "base_uri": "https://localhost:8080/"
        },
        "id": "qMJxTfUoT9ff",
        "outputId": "a2c1e3e9-73a5-4585-d2b6-bb97a35a0383"
      },
      "source": [
        "loss2"
      ],
      "execution_count": 98,
      "outputs": [
        {
          "output_type": "execute_result",
          "data": {
            "text/plain": [
              "0.27283158898353577"
            ]
          },
          "metadata": {},
          "execution_count": 98
        }
      ]
    },
    {
      "cell_type": "code",
      "metadata": {
        "colab": {
          "base_uri": "https://localhost:8080/"
        },
        "id": "YMc0OLlYT-_T",
        "outputId": "7c46393e-7c5e-4f82-c03c-cec35f4e362e"
      },
      "source": [
        "acc2"
      ],
      "execution_count": 99,
      "outputs": [
        {
          "output_type": "execute_result",
          "data": {
            "text/plain": [
              "0.11781185120344162"
            ]
          },
          "metadata": {},
          "execution_count": 99
        }
      ]
    },
    {
      "cell_type": "code",
      "metadata": {
        "id": "MPrLZjSZT_R2"
      },
      "source": [
        "#Deep Learning with Scikit-Learn\n",
        "from sklearn.neural_network import MLPClassifier"
      ],
      "execution_count": 101,
      "outputs": []
    },
    {
      "cell_type": "code",
      "metadata": {
        "id": "OOfxpP-FUHSB"
      },
      "source": [
        "#Init\n",
        "mlp_nn = MLPClassifier(max_iter=50,random_state=42)"
      ],
      "execution_count": 103,
      "outputs": []
    },
    {
      "cell_type": "code",
      "metadata": {
        "colab": {
          "base_uri": "https://localhost:8080/"
        },
        "id": "o287hbBLUNOf",
        "outputId": "eeda40a1-bdc7-4771-d357-ec3648acddec"
      },
      "source": [
        "mlp_nn.fit(X_train_scaled,y_train)"
      ],
      "execution_count": 105,
      "outputs": [
        {
          "output_type": "stream",
          "name": "stderr",
          "text": [
            "/usr/local/lib/python3.7/dist-packages/sklearn/neural_network/_multilayer_perceptron.py:571: ConvergenceWarning: Stochastic Optimizer: Maximum iterations (50) reached and the optimization hasn't converged yet.\n",
            "  % self.max_iter, ConvergenceWarning)\n"
          ]
        },
        {
          "output_type": "execute_result",
          "data": {
            "text/plain": [
              "MLPClassifier(activation='relu', alpha=0.0001, batch_size='auto', beta_1=0.9,\n",
              "              beta_2=0.999, early_stopping=False, epsilon=1e-08,\n",
              "              hidden_layer_sizes=(100,), learning_rate='constant',\n",
              "              learning_rate_init=0.001, max_fun=15000, max_iter=50,\n",
              "              momentum=0.9, n_iter_no_change=10, nesterovs_momentum=True,\n",
              "              power_t=0.5, random_state=42, shuffle=True, solver='adam',\n",
              "              tol=0.0001, validation_fraction=0.1, verbose=False,\n",
              "              warm_start=False)"
            ]
          },
          "metadata": {},
          "execution_count": 105
        }
      ]
    },
    {
      "cell_type": "code",
      "metadata": {
        "colab": {
          "base_uri": "https://localhost:8080/"
        },
        "id": "R309_EJHUXb-",
        "outputId": "c126c6ce-3e9d-477f-bbcc-36b1d9973f68"
      },
      "source": [
        "#accuracy\n",
        "mlp_nn.score(X_test_scaled,y_test)"
      ],
      "execution_count": 106,
      "outputs": [
        {
          "output_type": "execute_result",
          "data": {
            "text/plain": [
              "0.8990710704806841"
            ]
          },
          "metadata": {},
          "execution_count": 106
        }
      ]
    },
    {
      "cell_type": "code",
      "metadata": {
        "colab": {
          "base_uri": "https://localhost:8080/"
        },
        "id": "BON9kXboUcZF",
        "outputId": "f82d6f23-0556-4803-867f-9a5e77294a22"
      },
      "source": [
        "mlp_nn.predict(sample1)"
      ],
      "execution_count": 107,
      "outputs": [
        {
          "output_type": "execute_result",
          "data": {
            "text/plain": [
              "array([0])"
            ]
          },
          "metadata": {},
          "execution_count": 107
        }
      ]
    }
  ]
}